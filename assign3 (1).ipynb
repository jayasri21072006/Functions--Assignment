{
  "nbformat": 4,
  "nbformat_minor": 0,
  "metadata": {
    "colab": {
      "provenance": []
    },
    "kernelspec": {
      "name": "python3",
      "display_name": "Python 3"
    },
    "language_info": {
      "name": "python"
    }
  },
  "cells": [
    {
      "cell_type": "markdown",
      "source": [
        "1. What are data structures, and why are they important?\n",
        " - Data structures are the place holders used to store the data effectively and effeciently.\n",
        " - They are used for the easy manipulation and retrieval.\n",
        "\n",
        "\n"
      ],
      "metadata": {
        "id": "69wnW0e9pslG"
      }
    },
    {
      "cell_type": "markdown",
      "source": [
        "2.Explain the difference between mutable and immutable data types with examples?\n",
        "- mutable datatypes means the can be modified after their creation.\n",
        "  - examples:list,set,dictionary.\n",
        "- immutable datatypes means that  cannot be modified after their creation.\n",
        "  - eg:tuple,strings."
      ],
      "metadata": {
        "id": "O7Lx2HHoqvFo"
      }
    },
    {
      "cell_type": "markdown",
      "source": [],
      "metadata": {
        "id": "ckJURe_Cr3_y"
      }
    },
    {
      "cell_type": "markdown",
      "source": [
        "3.What are the main differences between lists and tuples in Python?\n",
        "  - Lists are mutable, meaning their elements can be changed after creation (add, remove, modify). Tuples are immutable; once created, their elements cannot be altered.\n",
        "\n",
        "  - Syntax: Lists are defined using square brackets [], while tuples use parentheses ().  For example: my_list = [1, 2, 3] and my_tuple = (1, 2, 3)."
      ],
      "metadata": {
        "id": "dO_N3-4IsFHv"
      }
    },
    {
      "cell_type": "markdown",
      "source": [
        "4.Describe how dictionaries store data?\n",
        "   - Dictionaries in Python store data as key-value pairs.\n",
        "   - Keys: Keys are unique identifiers for the data.  They must be immutable data types (like strings, numbers, or tuples).  They act like the index for accessing the associated value.\n",
        "\n",
        "   - Values: Values are the actual data being stored.  They can be any data type (strings, numbers, lists, even other dictionaries).\n",
        "\n"
      ],
      "metadata": {
        "id": "ScqnDMSVsnpM"
      }
    },
    {
      "cell_type": "markdown",
      "source": [
        "5.Why might you use a set instead of a list in Python?\n",
        "- Uniqueness is crucial: Sets inherently store only unique elements.  If you need to ensure no duplicates, a set is ideal.  Lists allow duplicates.\n",
        "\n",
        "- Fast membership checks are essential: Checking if an element exists in a set is significantly faster (on average O(1)) than in a list (O(n)).  If you frequently check for membership, a set is more efficient.\n"
      ],
      "metadata": {
        "id": "pfJn_QLbCkpk"
      }
    },
    {
      "cell_type": "markdown",
      "source": [
        "6.What is a string in Python, and how is it different from a list?\n",
        " - In Python, a string is a sequence of characters.  It's an immutable data type, meaning its contents cannot be changed after creation.  For example: my_string = \"Hello, World!\"\n",
        "\n",
        "\n",
        "\n",
        " - Immutability: Strings are immutable; you can't modify individual characters within them.  If you try to change a character, Python creates a new string. Lists are mutable; you can change their elements after creation.\n",
        "\n",
        " - Data Type: Strings specifically store characters, while lists can hold elements of any data type (numbers, strings, other lists, etc.).\n",
        "\n",
        "- Operations:  While both support some sequence operations (like indexing and slicing), strings have specialized methods for text manipulation (like upper(), lower(), split()), which lists don't have.  Lists have methods for adding, removing, or changing elements, which strings lack."
      ],
      "metadata": {
        "id": "X6NdxZgLDU6X"
      }
    },
    {
      "cell_type": "markdown",
      "source": [
        "7.How do tuples ensure data integrity in Python?\n",
        " Tuples ensure data integrity in Python 3 primarily through their immutability.  Once a tuple is created, its elements cannot be changed, added, or removed. This immutability provides several benefits regarding data integrity:\n",
        "\n",
        " -Data Consistency:  Since tuple elements can't be modified, you can rely on the data within a tuple to remain consistent throughout your program's execution.  This prevents accidental or unintended changes to the data.\n",
        "\n",
        "- Safe Passing of Data:  When you pass a tuple to a function, you can be confident that the function won't modify the original data.  This is crucial for preventing side effects and ensuring that the data remains unchanged.\n",
        "\n",
        "- Use as Dictionary Keys:  Because tuples are immutable, they can be used as keys in dictionaries.  Dictionary keys must be immutable, and tuples often represent composite keys (e.g., a combination of fields).\n",
        "\n",
        "- Representation of Fixed Records: Tuples are often used to represent fixed records of data, like database rows or coordinates.  Their immutability reflects the idea that these records should not be altered."
      ],
      "metadata": {
        "id": "or5ijZomEXze"
      }
    },
    {
      "cell_type": "markdown",
      "source": [
        "8.What is a hash table, and how does it relate to dictionaries in Python?\n",
        " - A hash table is a data structure that uses a hash function to map keys to their corresponding values.  This allows for very fast average-case lookup, insertion, and deletion of elements, typically close to constant time (O(1)).  The hash function calculates an index (or \"hash\") for each key, which determines where the key-value pair is stored.  Collisions (when different keys map to the same index) are handled using various techniques (like chaining or open addressing).  In Python 3, dictionaries are implemented using hash tables, making them highly efficient for key-based lookups.  The speed of dictionary operations is a direct result of this underlying hash table implementation"
      ],
      "metadata": {
        "id": "H46wCdnmFXtQ"
      }
    },
    {
      "cell_type": "markdown",
      "source": [
        "9.Can lists contain different data types in Python?\n",
        " - Yes, lists in Python can contain elements of different data types.  A single list can hold integers, strings, booleans, other lists, tuples, dictionaries, and even functions, all at the same time. This flexibility makes lists a powerful and versatile data structure.  For example, my_list = [1, \"hello\", True, [1, 2, 3], (4, 5)] is a valid Python list."
      ],
      "metadata": {
        "id": "bqi8EDqmGhEz"
      }
    },
    {
      "cell_type": "markdown",
      "source": [
        "10.Explain why strings are immutable in Python?\n",
        "  - Strings in Python are immutable, meaning their values cannot be changed after they are created.  This design choice has several important benefits:\n",
        "\n",
        "Efficiency: Immutability allows Python to optimize memory allocation for strings.  Since the string's value is fixed, Python can reuse the same memory location for identical strings, improving performance.\n",
        "\n",
        "Data Integrity: Immutability prevents accidental modification of strings.  This is crucial when you want to ensure that a string's value remains constant, especially when passing strings to functions or working with shared data.\n",
        "\n",
        "Thread Safety: Immutable strings are inherently thread-safe.  Multiple threads can access and use the same string without the risk of race conditions or data corruption, simplifying concurrent programming.\n",
        "\n",
        "Use as Dictionary Keys:  Because strings are immutable, they can be used as keys in dictionaries.  Dictionary keys must be immutable to ensure consistent lookups.\n",
        "\n",
        "Simplification of String Operations: Immutability simplifies string operations.  Instead of modifying the original string, operations like concatenation or slicing create new strings, making the behavior more predictable."
      ],
      "metadata": {
        "id": "FA9M_26cFS0C"
      }
    },
    {
      "cell_type": "markdown",
      "source": [
        "11.What advantages do dictionaries offer over lists for certain tasks?\n",
        " - Strings in Python are immutable, meaning their values cannot be changed after they are created.  This design choice has several important benefits:\n",
        "\n",
        "Efficiency: Immutability allows Python to optimize memory allocation for strings.  Since the string's value is fixed, Python can reuse the same memory location for identical strings, improving performance.\n",
        "\n",
        "Data Integrity: Immutability prevents accidental modification of strings.  This is crucial when you want to ensure that a string's value remains constant, especially when passing strings to functions or working with shared data.\n",
        "\n",
        "Thread Safety: Immutable strings are inherently thread-safe.  Multiple threads can access and use the same string without the risk of race conditions or data corruption, simplifying concurrent programming.\n",
        "\n",
        "Use as Dictionary Keys:  Because strings are immutable, they can be used as keys in dictionaries.  Dictionary keys must be immutable to ensure consistent lookups.\n",
        "\n",
        "Simplification of String Operations: Immutability simplifies string operations.  Instead of modifying the original string, operations like concatenation or slicing create new strings, making the behavior more predictable.\n",
        "\n",
        "\n",
        "\n",
        "\n",
        "\n"
      ],
      "metadata": {
        "id": "jnluPVcTIJ-l"
      }
    },
    {
      "cell_type": "markdown",
      "source": [
        "12.Describe a scenario where using a tuple would be preferable over a list?\n",
        "  - A scenario where a tuple would be preferable over a list is representing a point in a 2D plane. A point is defined by its x and y coordinates, which are two values that should logically be grouped together and, ideally, not modified. A tuple point = (x, y) perfectly suits this purpose.  Using a tuple ensures that the coordinates are treated as a single, immutable unit, preventing accidental changes to individual coordinates and clearly representing the concept of a fixed point. This immutability also makes the point suitable for use as a key in a dictionary if needed."
      ],
      "metadata": {
        "id": "QttS8lcKIa4B"
      }
    },
    {
      "cell_type": "markdown",
      "source": [
        "13.How do sets handle duplicate values in Python?\n",
        " - Sets in Python automatically handle duplicate values by discarding them.  When you attempt to add an element that is already present in a set, the set remains unchanged.  It does not raise an error; it simply ignores the attempt to add the duplicate.  This behavior ensures that sets always contain only unique elements.  For example, if my_set = {1, 2, 2, 3}, the set will only contain {1, 2, 3} after the duplicate 2 is handled"
      ],
      "metadata": {
        "id": "M3qN5QZFI_d6"
      }
    },
    {
      "cell_type": "markdown",
      "source": [
        "14.How does the “in” keyword work differently for lists and dictionaries?\n",
        " The in keyword works differently for lists and dictionaries in Python primarily due to how these data structures are implemented.\n",
        "\n",
        "For lists, in performs a sequential search.  It iterates through the list, comparing each element to the value you're checking.  This means the time complexity is O(n), where n is the length of the list.  In larger lists, this can become relatively slow.\n",
        "\n",
        "For dictionaries, in checks for the presence of a key.  Because dictionaries are implemented using hash tables, this check is extremely fast, on average close to constant time, O(1).  It doesn't have to scan the entire dictionary; it uses the hash function to quickly locate the potential key.  Checking for a value in a dictionary, however, is O(n) because it requires iterating through all the values.\n"
      ],
      "metadata": {
        "id": "-T4GrAGcJVlO"
      }
    },
    {
      "cell_type": "markdown",
      "source": [
        "15.Can you modify the elements of a tuple? Explain why or why not.\n",
        "  No, you cannot modify the elements of a tuple in Python.  Tuples are immutable data structures.  This means that once a tuple is created, its contents cannot be altered.  You cannot add, remove, or change individual elements within a tuple.  Any attempt to modify a tuple will result in an error.  This immutability is a core characteristic of tuples and is a deliberate design choice that provides benefits like data integrity, thread safety, and suitability for use as dictionary keys.  If you need to modify a sequence of items, you should use a list instead, as lists are mutable."
      ],
      "metadata": {
        "id": "4vJoQhTsLFa2"
      }
    },
    {
      "cell_type": "markdown",
      "source": [
        "16.What is a nested dictionary, and give an example of its use case?\n",
        " - A nested dictionary in Python is a dictionary that contains other dictionaries as its values. This allows you to represent hierarchical data structures or data with multiple levels of organization.\n",
        "\n"
      ],
      "metadata": {
        "id": "UJVDVKHE6Wl0"
      }
    },
    {
      "cell_type": "code",
      "source": [
        "#example\n",
        "employee_data = {\n",
        "    \"John Doe\": {\n",
        "        \"department\": \"Sales\",\n",
        "        \"position\": \"Manager\",\n",
        "        \"salary\": 60000\n",
        "    },\n",
        "    \"Jane Smith\": {\n",
        "        \"department\": \"Engineering\",\n",
        "        \"position\": \"Software Engineer\",\n",
        "        \"salary\": 80000\n",
        "    },\n",
        "    \"Peter Jones\": {\n",
        "        \"department\": \"Marketing\",\n",
        "        \"position\": \"Analyst\",\n",
        "        \"salary\": 55000\n",
        "    }\n",
        "}\n",
        "employee_data"
      ],
      "metadata": {
        "id": "_azlqkK9V-H_",
        "colab": {
          "base_uri": "https://localhost:8080/"
        },
        "outputId": "bac56045-533e-4cad-b2ed-d6714ed7d0b5"
      },
      "execution_count": 38,
      "outputs": [
        {
          "output_type": "execute_result",
          "data": {
            "text/plain": [
              "{'John Doe': {'department': 'Sales', 'position': 'Manager', 'salary': 60000},\n",
              " 'Jane Smith': {'department': 'Engineering',\n",
              "  'position': 'Software Engineer',\n",
              "  'salary': 80000},\n",
              " 'Peter Jones': {'department': 'Marketing',\n",
              "  'position': 'Analyst',\n",
              "  'salary': 55000}}"
            ]
          },
          "metadata": {},
          "execution_count": 38
        }
      ]
    },
    {
      "cell_type": "markdown",
      "source": [
        "17.Describe the time complexity of accessing elements in a dictionary?\n",
        " -Accessing elements in a Python dictionary has an average time complexity of O(1), which is considered constant time. This means that, on average, the time it takes to retrieve a value from a dictionary does not depend on the size of the dictionary. Whether the dictionary has 10 items or 10 million items, the access time will be roughly the same.Accessing elements in a Python dictionary has an average time complexity of O(1), which is considered constant time. This means that, on average, the time it takes to retrieve a value from a dictionary does not depend on the size of the dictionary. Whether the dictionary has 10 items or 10 million items, the access time will be roughly the same.\n",
        "\n"
      ],
      "metadata": {
        "id": "zXFr87tb6iwB"
      }
    },
    {
      "cell_type": "markdown",
      "source": [
        "18.In what situations are lists preferred over dictionaries?\n",
        "Here are some situations where lists are generally preferred over dictionaries:\n",
        "\n",
        "Ordered Data: When the order of elements matters, lists are the better choice. Lists maintain a specific order of elements, while dictionaries do not (in versions before Python 3.7).\n",
        "\n",
        "Sequential Access: If you need to access elements sequentially by their index (e.g., first, second, third item), lists are more efficient.\n",
        "\n",
        "Simplicity: For simple collections of items where you don't need key-value pairs, lists are easier to use and understand.\n",
        "\n",
        "Duplicates Allowed: Lists allow duplicate elements, which can be useful in certain scenarios. Dictionaries, on the other hand, require unique keys.\n",
        "\n",
        "Memory Efficiency: Lists can be more memory-efficient than dictionaries for storing large amounts of data, especially if the data is simple and homogeneous.\n",
        "\n",
        "  \n",
        "\n",
        "    \n",
        "\n"
      ],
      "metadata": {
        "id": "PtSsK2kr6v0q"
      }
    },
    {
      "cell_type": "markdown",
      "source": [
        "19.Why are dictionaries considered unordered, and how does that affect data retrieval?\n",
        "\n",
        "\n",
        " Focus on Key-Value Relationships:\n",
        " Dictionaries are primarily designed for efficient storage and retrieval of data based on keys, not on the order in which items are inserted. The underlying implementation often uses hash tables, which prioritize fast lookups over maintaining insertion order.\n",
        " Flexibility and Performance:\n",
        "  Not enforcing a specific order gives the dictionary implementation more freedom to optimize for performance. Hash tables, for example, can distribute key-value pairs in a way that minimizes collisions and maximizes retrieval speed.\n"
      ],
      "metadata": {
        "id": "1aR3vpKm64F2"
      }
    },
    {
      "cell_type": "markdown",
      "source": [
        "20.Explain the difference between a list and a dictionary in terms of data retrieval.\n",
        " - Datas in list can be retrieved by indexing.Because list is ordered\n",
        " - Datas in dictionary arevretrieved by key ,as they are unordered.\n"
      ],
      "metadata": {
        "id": "r6Mt6E9ftTd9"
      }
    },
    {
      "cell_type": "markdown",
      "source": [
        "#practical questions"
      ],
      "metadata": {
        "id": "RThOC-k4vy3E"
      }
    },
    {
      "cell_type": "markdown",
      "source": [
        "#1.Write a code to create a string with your name and print it.\n"
      ],
      "metadata": {
        "id": "Qe47IFtRwvKf"
      }
    },
    {
      "cell_type": "code",
      "source": [
        "strs=\"jayasri\"\n",
        "print(strs)"
      ],
      "metadata": {
        "colab": {
          "base_uri": "https://localhost:8080/"
        },
        "id": "Jb6dfjzFxHNu",
        "outputId": "bfead1ed-70e5-447f-d20d-4b5471313413"
      },
      "execution_count": null,
      "outputs": [
        {
          "output_type": "stream",
          "name": "stdout",
          "text": [
            "jayasri\n"
          ]
        }
      ]
    },
    {
      "cell_type": "code",
      "source": [
        "#2.Write a code to find the length of the string \"Hello World\"\n",
        "print(len(\"Hello World\"))"
      ],
      "metadata": {
        "colab": {
          "base_uri": "https://localhost:8080/"
        },
        "id": "yJJsXrunxM9_",
        "outputId": "10d87c1a-8e12-4b8b-fca9-09b059d8c2a1"
      },
      "execution_count": 39,
      "outputs": [
        {
          "output_type": "stream",
          "name": "stdout",
          "text": [
            "11\n"
          ]
        }
      ]
    },
    {
      "cell_type": "code",
      "source": [
        "#3.write a code to slice the first 3 characters from the string \"Python Programming\".\n",
        "f=\"Python Programming\"\n",
        "print(f[:3])"
      ],
      "metadata": {
        "id": "vV9InOJ4LBOR",
        "colab": {
          "base_uri": "https://localhost:8080/"
        },
        "outputId": "20008f6e-360a-4ffa-847b-1942305a517c"
      },
      "execution_count": 40,
      "outputs": [
        {
          "output_type": "stream",
          "name": "stdout",
          "text": [
            "Pyt\n"
          ]
        }
      ]
    },
    {
      "cell_type": "code",
      "execution_count": null,
      "metadata": {
        "id": "ENALYcRLy4EF",
        "colab": {
          "base_uri": "https://localhost:8080/"
        },
        "outputId": "a1354b37-9703-4d94-f1f4-7a70284fa536"
      },
      "outputs": [
        {
          "output_type": "stream",
          "name": "stdout",
          "text": [
            "HELLO\n"
          ]
        }
      ],
      "source": [
        "#4.Write a code to convert the string \"hello\" to uppercase.\n",
        "strs=\"hello\"\n",
        "print(strs.upper())"
      ]
    },
    {
      "cell_type": "code",
      "source": [
        "#5.Write a code to replace the word \"apple\" with \"orange\" in the string \"I like apple\".\n",
        "strs=\"I like apple\"\n",
        "print(strs.replace(\"apple\",\"orange\"))"
      ],
      "metadata": {
        "id": "iEpaV2ZfEWfe",
        "colab": {
          "base_uri": "https://localhost:8080/"
        },
        "outputId": "5a22633f-b783-449e-bed2-ed47a8ea2c27"
      },
      "execution_count": null,
      "outputs": [
        {
          "output_type": "stream",
          "name": "stdout",
          "text": [
            "I like orange\n"
          ]
        }
      ]
    },
    {
      "cell_type": "code",
      "source": [
        "#6.Write a code to create a list with numbers 1 to 5 and print it.\n",
        "lst=[1,2,3,4,5]\n",
        "print(lst)"
      ],
      "metadata": {
        "id": "eQY52djPykhP",
        "colab": {
          "base_uri": "https://localhost:8080/"
        },
        "outputId": "cc360bbd-415c-4fe1-a545-a1736e237eb2"
      },
      "execution_count": 41,
      "outputs": [
        {
          "output_type": "stream",
          "name": "stdout",
          "text": [
            "[1, 2, 3, 4, 5]\n"
          ]
        }
      ]
    },
    {
      "cell_type": "code",
      "source": [
        "#7.Write a code to append the number 10 to the list [1, 2, 3, 4].\n",
        "lst=[1, 2, 3, 4]\n",
        "lst.append(10)\n",
        "print(lst)"
      ],
      "metadata": {
        "id": "-1kE1oxrywa7",
        "colab": {
          "base_uri": "https://localhost:8080/"
        },
        "outputId": "e02dce65-699a-4fa3-bff4-662860d546dc"
      },
      "execution_count": 42,
      "outputs": [
        {
          "output_type": "stream",
          "name": "stdout",
          "text": [
            "[1, 2, 3, 4, 10]\n"
          ]
        }
      ]
    },
    {
      "cell_type": "code",
      "source": [
        "#8.Write a code to remove the number 3 from the list [1, 2, 3, 4, 5].\n",
        "lst=[1, 2, 3, 4, 5]\n",
        "lst.remove(3)\n",
        "print(lst)\n"
      ],
      "metadata": {
        "id": "tkg3JMPRy50U",
        "colab": {
          "base_uri": "https://localhost:8080/"
        },
        "outputId": "1515c3c3-1913-4ce4-880c-2cea4c1fdcc8"
      },
      "execution_count": 43,
      "outputs": [
        {
          "output_type": "stream",
          "name": "stdout",
          "text": [
            "[1, 2, 4, 5]\n"
          ]
        }
      ]
    },
    {
      "cell_type": "code",
      "source": [
        "#9.Write a code to access the second element in the list ['a', 'b', 'c', 'd']\n",
        "lst=['a', 'b', 'c', 'd']\n",
        "print(lst[1])"
      ],
      "metadata": {
        "id": "S337p1JTzSFP",
        "colab": {
          "base_uri": "https://localhost:8080/"
        },
        "outputId": "ce2e1ff0-c68d-4f3e-c62f-1067e47e92a6"
      },
      "execution_count": 44,
      "outputs": [
        {
          "output_type": "stream",
          "name": "stdout",
          "text": [
            "b\n"
          ]
        }
      ]
    },
    {
      "cell_type": "code",
      "source": [
        "#10.Write a code to reverse the list [10, 20, 30, 40, 50].\n",
        "lst=[10, 20, 30, 40, 50]\n",
        "print(lst.reverse())\n"
      ],
      "metadata": {
        "id": "KDFf3aY9ziY4",
        "colab": {
          "base_uri": "https://localhost:8080/"
        },
        "outputId": "989981a8-2218-40c5-a6ce-0cc596329289"
      },
      "execution_count": 45,
      "outputs": [
        {
          "output_type": "stream",
          "name": "stdout",
          "text": [
            "None\n"
          ]
        }
      ]
    },
    {
      "cell_type": "code",
      "source": [
        "#11.Write a code to create a tuple with the elements 100, 200, 300 and print it.\n",
        "tup=(100,200,300)\n",
        "print(tup)\n"
      ],
      "metadata": {
        "id": "ZNt323C8z1bQ",
        "colab": {
          "base_uri": "https://localhost:8080/"
        },
        "outputId": "cb5e852b-b149-4179-9d23-1cfeb72dbd65"
      },
      "execution_count": 46,
      "outputs": [
        {
          "output_type": "stream",
          "name": "stdout",
          "text": [
            "(100, 200, 300)\n"
          ]
        }
      ]
    },
    {
      "cell_type": "code",
      "source": [
        "#12.Write a code to access the second-to-last element of the tuple ('red', 'green', 'blue', 'yellow').\n",
        "tup=('red', 'green', 'blue', 'yellow')\n",
        "print(tup[1:])\n"
      ],
      "metadata": {
        "id": "aa56J9kk0IUP",
        "colab": {
          "base_uri": "https://localhost:8080/"
        },
        "outputId": "a9491737-dc0c-4ec6-c72e-8c810cebd4a8"
      },
      "execution_count": 47,
      "outputs": [
        {
          "output_type": "stream",
          "name": "stdout",
          "text": [
            "('green', 'blue', 'yellow')\n"
          ]
        }
      ]
    },
    {
      "cell_type": "code",
      "source": [
        "#13.Write a code to find the minimum number in the tuple (10, 20, 5, 15).\n",
        "tup=(10, 20, 5, 15)\n",
        "print(min(tup))"
      ],
      "metadata": {
        "id": "5HrhyAJY0gOm",
        "colab": {
          "base_uri": "https://localhost:8080/"
        },
        "outputId": "cda3000d-6047-45e7-98a5-f281339111a8"
      },
      "execution_count": 48,
      "outputs": [
        {
          "output_type": "stream",
          "name": "stdout",
          "text": [
            "5\n"
          ]
        }
      ]
    },
    {
      "cell_type": "code",
      "source": [
        "#14. Write a code to find the index of the element \"cat\" in the tuple ('dog', 'cat', 'rabbit').\n",
        "tup=('dog', 'cat', 'rabbit')\n",
        "print(tup.index('cat'))"
      ],
      "metadata": {
        "id": "HA9qaiYJ1JZv",
        "colab": {
          "base_uri": "https://localhost:8080/"
        },
        "outputId": "964d29e4-f958-4c0a-8685-21f625b7d758"
      },
      "execution_count": 49,
      "outputs": [
        {
          "output_type": "stream",
          "name": "stdout",
          "text": [
            "1\n"
          ]
        }
      ]
    },
    {
      "cell_type": "code",
      "source": [
        "#15.Write a code to create a tuple containing three different fruits and check if \"kiwi\" is in it.\n",
        "tup=(\"kiwi\",\"mango\",\"banana\")\n",
        "if \"kiwi\" in tup:\n",
        "  print(\"kiwi is present\")\n",
        "else:\n",
        "  print(\"kiwi is not present\")\n"
      ],
      "metadata": {
        "colab": {
          "base_uri": "https://localhost:8080/"
        },
        "id": "ATknaMOAlC6P",
        "outputId": "6401a832-d7ae-4fdc-aec2-dae5546f7f0b"
      },
      "execution_count": 50,
      "outputs": [
        {
          "output_type": "stream",
          "name": "stdout",
          "text": [
            "kiwi is present\n"
          ]
        }
      ]
    },
    {
      "cell_type": "code",
      "source": [
        "#16. Write a code to create a set with the elements 'a', 'b', 'c' and print it.\n",
        "sets={\"a\",\"b\",\"c\"}\n",
        "print(sets)"
      ],
      "metadata": {
        "colab": {
          "base_uri": "https://localhost:8080/"
        },
        "id": "Xsow7-_4lYmA",
        "outputId": "53f44d23-a7af-45d8-a4c2-25556f874ee8"
      },
      "execution_count": null,
      "outputs": [
        {
          "output_type": "stream",
          "name": "stdout",
          "text": [
            "{'c', 'b', 'a'}\n"
          ]
        }
      ]
    },
    {
      "cell_type": "code",
      "source": [
        "#17.Write a code to clear all elements from the set {1, 2, 3, 4, 5}.\n",
        "sets={1, 2, 3, 4, 5}\n",
        "sets.clear()\n",
        "print(sets)\n"
      ],
      "metadata": {
        "colab": {
          "base_uri": "https://localhost:8080/"
        },
        "id": "LbtQHWYMlkr4",
        "outputId": "4279e3ae-3a19-4446-f480-088eaddd6698"
      },
      "execution_count": null,
      "outputs": [
        {
          "output_type": "stream",
          "name": "stdout",
          "text": [
            "set()\n"
          ]
        }
      ]
    },
    {
      "cell_type": "code",
      "source": [
        "#18. Write a code to remove the element 4 from the set {1, 2, 3, 4}.\n",
        "sets={1, 2, 3, 4}\n",
        "sets.remove(4)\n",
        "print(sets)"
      ],
      "metadata": {
        "colab": {
          "base_uri": "https://localhost:8080/"
        },
        "id": "36sm-gFRl35_",
        "outputId": "1a718a7a-0324-480c-ef1a-6c622eafa2ca"
      },
      "execution_count": null,
      "outputs": [
        {
          "output_type": "stream",
          "name": "stdout",
          "text": [
            "{1, 2, 3}\n"
          ]
        }
      ]
    },
    {
      "cell_type": "code",
      "source": [
        "#19.Write a code to find the union of two sets {1, 2, 3} and {3, 4, 5}.\n",
        "a={1,2,3}\n",
        "b={3,4,5}\n",
        "print(a.union(b))"
      ],
      "metadata": {
        "colab": {
          "base_uri": "https://localhost:8080/"
        },
        "id": "X7iYbl_qmFsB",
        "outputId": "432b9a86-d29f-4afd-a489-1b22db42a4bd"
      },
      "execution_count": null,
      "outputs": [
        {
          "output_type": "stream",
          "name": "stdout",
          "text": [
            "{1, 2, 3, 4, 5}\n"
          ]
        }
      ]
    },
    {
      "cell_type": "code",
      "source": [
        "#20. Write a code to find the intersection of two sets {1, 2, 3} and {2, 3, 4}\n",
        "a={1, 2, 3}\n",
        "b={2, 3, 4}\n",
        "a.intersection(b)"
      ],
      "metadata": {
        "colab": {
          "base_uri": "https://localhost:8080/"
        },
        "id": "_S8iwW-omqJD",
        "outputId": "4f603824-4e70-4806-fc4a-5e7280ba8f5f"
      },
      "execution_count": null,
      "outputs": [
        {
          "output_type": "execute_result",
          "data": {
            "text/plain": [
              "{2, 3}"
            ]
          },
          "metadata": {},
          "execution_count": 14
        }
      ]
    },
    {
      "cell_type": "code",
      "source": [
        "#21. Write a code to create a dictionary with the keys \"name\", \"age\", and \"city\", and print it.\n",
        "dict={\"name\":\"lnjaya\",\"age\":18,\"city\":\"pondicherry\"}\n",
        "print(dict)"
      ],
      "metadata": {
        "colab": {
          "base_uri": "https://localhost:8080/"
        },
        "id": "twZoJN3PmOWg",
        "outputId": "200ab55d-dd65-48a5-a4ac-f0140e0c2bf4"
      },
      "execution_count": null,
      "outputs": [
        {
          "output_type": "stream",
          "name": "stdout",
          "text": [
            "{'name': 'lnjaya', 'age': 18, 'city': 'pondicherry'}\n"
          ]
        }
      ]
    },
    {
      "cell_type": "code",
      "source": [
        "#22. Write a code to add a new key-value pair \"country\": \"USA\" to the dictionary {'name': 'John', 'age': 25}\n",
        "dicto={'name': 'John', 'age': 25}\n",
        "dicto[\"country\"]=\"USA\"\n",
        "print(dicto)\n"
      ],
      "metadata": {
        "colab": {
          "base_uri": "https://localhost:8080/"
        },
        "id": "6eUjDrzJnf5z",
        "outputId": "2603fbe4-f46b-4f52-97ce-fa1e174fd30c"
      },
      "execution_count": null,
      "outputs": [
        {
          "output_type": "stream",
          "name": "stdout",
          "text": [
            "{'name': 'John', 'age': 25, 'country': 'USA'}\n"
          ]
        }
      ]
    },
    {
      "cell_type": "code",
      "source": [
        "#23.Write a code to access the value associated with the key \"name\" in the dictionary {'name': 'Alice', 'age': 30}.\n",
        "dicto={'name': 'Alice', 'age': 30}\n",
        "print(dicto[\"name\"])"
      ],
      "metadata": {
        "colab": {
          "base_uri": "https://localhost:8080/"
        },
        "id": "GlPv254wn6vj",
        "outputId": "f362bd64-fbfc-45f7-acc5-9b97a8ad0c57"
      },
      "execution_count": null,
      "outputs": [
        {
          "output_type": "stream",
          "name": "stdout",
          "text": [
            "Alice\n"
          ]
        }
      ]
    },
    {
      "cell_type": "code",
      "source": [
        "#24. Write a code to remove the key \"age\" from the dictionary {'name': 'Bob', 'age': 22, 'city': 'New York'}.\n",
        "\n",
        "l = {'name': 'Bob', 'age': 22, 'city': 'New York'}\n",
        "if 'age' in l:\n",
        "    del l['age']\n",
        "print(l)"
      ],
      "metadata": {
        "colab": {
          "base_uri": "https://localhost:8080/"
        },
        "id": "YsHbnadVpWkl",
        "outputId": "0d6b16be-f87f-4dcf-fdb9-06dba81eb4fb"
      },
      "execution_count": null,
      "outputs": [
        {
          "output_type": "execute_result",
          "data": {
            "text/plain": [
              "{'name': 'Bob', 'age': None, 'city': 'New York'}"
            ]
          },
          "metadata": {},
          "execution_count": 25
        }
      ]
    },
    {
      "cell_type": "code",
      "source": [
        "#25.Write a code to check if the key \"city\" exists in the dictionary {'name': 'Alice', 'city': 'Paris'}\n",
        "dicto = {'name': 'Alice', 'city': 'Paris'}\n",
        "\n",
        "if \"city\" in dicto:\n",
        "    print(\"yes it is found\")\n",
        "else:\n",
        "    print(\"it is not found\")"
      ],
      "metadata": {
        "colab": {
          "base_uri": "https://localhost:8080/"
        },
        "id": "v4gTmn_XoXKV",
        "outputId": "076e7c1c-8656-4ab3-ec70-cc1959ef4a15"
      },
      "execution_count": null,
      "outputs": [
        {
          "output_type": "stream",
          "name": "stdout",
          "text": [
            "yes it is found\n"
          ]
        }
      ]
    },
    {
      "cell_type": "code",
      "source": [
        "#26.Write a code to create a list, a tuple, and a dictionary, and print them all.\n",
        "l=[1,3]\n",
        "t=(1,3)\n",
        "d={\"1\":\"one\",\"3\":\"three\"}\n",
        "print(\"list-->\",l,\"tuple-->\",t,\"dictionary-->\",d)"
      ],
      "metadata": {
        "colab": {
          "base_uri": "https://localhost:8080/"
        },
        "id": "nNGyGZRepR0b",
        "outputId": "b0622cf0-aff8-41bf-d581-ad581c99a3ef"
      },
      "execution_count": null,
      "outputs": [
        {
          "output_type": "stream",
          "name": "stdout",
          "text": [
            "list--> [1, 3] tuple--> (1, 3) dictionary--> {'1': 'one', '3': 'three'}\n"
          ]
        }
      ]
    },
    {
      "cell_type": "code",
      "source": [
        "#27.Write a code to create a list of 5 random numbers between 1 and 100, sort it in ascending order, and print the results(replaced).\n",
        "import random\n",
        "lst=[]\n",
        "for i in range(5):\n",
        "  lst.append(random.randint(1,100))\n",
        "lst.sort()\n",
        "print(lst)\n",
        "\n",
        "\n",
        "\n"
      ],
      "metadata": {
        "colab": {
          "base_uri": "https://localhost:8080/"
        },
        "id": "DUiKV6FTqxUp",
        "outputId": "89ad6226-b781-4b0a-9300-17fa226485ad"
      },
      "execution_count": null,
      "outputs": [
        {
          "output_type": "stream",
          "name": "stdout",
          "text": [
            "[11, 18, 31, 96, 100]\n"
          ]
        }
      ]
    },
    {
      "cell_type": "code",
      "source": [
        "#28.Write a code to create a list with strings and print the element at the third index.\n",
        "lst=[\"sri\",\"lin\",\"mash\",\"sweet\"]\n",
        "print(lst[3])"
      ],
      "metadata": {
        "colab": {
          "base_uri": "https://localhost:8080/"
        },
        "id": "ukQMGJnYr5zT",
        "outputId": "4c727e09-6040-413d-a77a-8598eafc6b79"
      },
      "execution_count": null,
      "outputs": [
        {
          "output_type": "stream",
          "name": "stdout",
          "text": [
            "sweet\n"
          ]
        }
      ]
    },
    {
      "cell_type": "code",
      "source": [
        "#29.Write a code to combine two dictionaries into one and print the result.\n",
        "dicto = {'name': 'Alice', 'city': 'Paris'}\n",
        "d = {\"1\": \"one\", \"3\": \"three\"}\n",
        "\n",
        "combined_dict = dicto.copy()  # Create a copy to avoid modifying the original\n",
        "combined_dict.update(d)\n",
        "\n",
        "print(combined_dict)"
      ],
      "metadata": {
        "colab": {
          "base_uri": "https://localhost:8080/"
        },
        "id": "HUIlgBXgsSUz",
        "outputId": "9b088de2-e22f-49e3-e920-022346398b17"
      },
      "execution_count": null,
      "outputs": [
        {
          "output_type": "stream",
          "name": "stdout",
          "text": [
            "{'name': 'Alice', 'city': 'Paris', '1': 'one', '3': 'three'}\n"
          ]
        }
      ]
    },
    {
      "cell_type": "code",
      "source": [
        "#30.Write a code to convert a list of strings into a set.\n",
        "sts = [\"jay\", \"ling\", \"kong\"]\n",
        "result_set = set(sts)\n",
        "print(result_set)"
      ],
      "metadata": {
        "colab": {
          "base_uri": "https://localhost:8080/"
        },
        "id": "teuZ1lcWsqRF",
        "outputId": "f8fa6737-360c-43d4-8e48-ecace98431e1"
      },
      "execution_count": null,
      "outputs": [
        {
          "output_type": "stream",
          "name": "stdout",
          "text": [
            "{'jay', 'ling', 'kong'}\n"
          ]
        }
      ]
    }
  ]
}