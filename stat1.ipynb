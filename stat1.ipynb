{
  "nbformat": 4,
  "nbformat_minor": 0,
  "metadata": {
    "colab": {
      "provenance": []
    },
    "kernelspec": {
      "name": "python3",
      "display_name": "Python 3"
    },
    "language_info": {
      "name": "python"
    }
  },
  "cells": [
    {
      "cell_type": "markdown",
      "metadata": {
        "id": "2b9baf10"
      },
      "source": [
        "### 1 What is statistics, and why is it important?\n",
        "\n",
        "Statistics is the science of collecting, organizing, analyzing, interpreting, and presenting data. It's important because it allows us to make informed decisions, draw meaningful conclusions, and understand variability in data across various fields, from science and business to social studies and everyday life."
      ]
    },
    {
      "cell_type": "markdown",
      "metadata": {
        "id": "ccff5980"
      },
      "source": [
        "### 2 What are the two main types of statistics?\n",
        "\n",
        "The two main types of statistics are descriptive statistics and inferential statistics."
      ]
    },
    {
      "cell_type": "markdown",
      "metadata": {
        "id": "381cb9b9"
      },
      "source": [
        "### 3 What are descriptive statistics?\n",
        "\n",
        "Descriptive statistics summarize and describe the main features of a dataset. This includes measures of central tendency (mean, median, mode), measures of dispersion (variance, standard deviation, range), and data visualization (histograms, box plots)."
      ]
    },
    {
      "cell_type": "markdown",
      "metadata": {
        "id": "ab437b59"
      },
      "source": [
        "### 4 What is inferential statistics?\n",
        "\n",
        "Inferential statistics uses data from a sample to make inferences and draw conclusions about a larger population. This involves techniques like hypothesis testing, confidence intervals, and regression analysis to generalize findings beyond the sample data."
      ]
    },
    {
      "cell_type": "markdown",
      "metadata": {
        "id": "befe6a1d"
      },
      "source": [
        "### 5 What is sampling in statistics?\n",
        "\n",
        "Sampling in statistics is the process of selecting a subset of individuals or observations from a larger population to gather data and make inferences about the entire population. It's often used when it's impractical or impossible to study every member of the population."
      ]
    },
    {
      "cell_type": "markdown",
      "metadata": {
        "id": "5e3ba706"
      },
      "source": [
        "### 6 What are the different types of sampling methods?\n",
        "\n",
        "There are various sampling methods, broadly categorized into probability sampling and non-probability sampling. Probability sampling methods include simple random sampling, stratified sampling, systematic sampling, and cluster sampling. Non-probability sampling methods include convenience sampling, voluntary response sampling, purposive sampling, and snowball sampling."
      ]
    },
    {
      "cell_type": "markdown",
      "metadata": {
        "id": "b4eae579"
      },
      "source": [
        "### 7 What is the difference between random and non-random sampling?\n",
        "\n",
        "The key difference lies in the selection process. In random sampling (probability sampling), every member of the population has a known, non-zero probability of being selected, ensuring the sample is representative of the population. In non-random sampling (non-probability sampling), the selection is not based on chance, and some members of the population may have no chance of being selected, potentially leading to bias and limiting the generalizability of the findings."
      ]
    },
    {
      "cell_type": "markdown",
      "metadata": {
        "id": "9d4790b8"
      },
      "source": [
        "### 8 Define and give examples of qualitative and quantitative data.\n",
        "\n",
        "**Qualitative data** is descriptive and non-numerical, representing categories or attributes. Examples include colors (red, blue, green), types of cars (sedan, SUV, truck), or opinions (good, bad, neutral).\n",
        "\n",
        "**Quantitative data** is numerical and can be measured. Examples include age (25 years), height (1.75 meters), temperature (20 degrees Celsius), or the number of students in a class (30)."
      ]
    },
    {
      "cell_type": "markdown",
      "metadata": {
        "id": "4bf288d3"
      },
      "source": [
        "### 9 What are the different types of data in statistics?\n",
        "\n",
        "In statistics, data can be broadly classified into qualitative and quantitative data. Quantitative data can be further divided into discrete data (countable, whole numbers, e.g., number of siblings) and continuous data (measurable, can take any value within a range, e.g., height or weight)."
      ]
    },
    {
      "cell_type": "markdown",
      "metadata": {
        "id": "1c17b3aa"
      },
      "source": [
        "### 10 Explain nominal, ordinal, interval, and ratio levels of measurement.\n",
        "\n",
        "These are four levels of measurement that describe the nature of the data and the types of statistical analyses that can be performed:\n",
        "\n",
        "*   **Nominal:** Categorical data with no inherent order (e.g., gender, marital status). Only frequency counts and mode are meaningful.\n",
        "*   **Ordinal:** Categorical data with a defined order, but the difference between categories is not quantifiable (e.g., educational level - high school, bachelor's, master's). Median and ranking are meaningful.\n",
        "*   **Interval:** Numerical data with a defined order and quantifiable differences between values, but no true zero point (e.g., temperature in Celsius or Fahrenheit). Mean, median, mode, standard deviation, and addition/subtraction are meaningful, but not multiplication or division.\n",
        "*   **Ratio:** Numerical data with a defined order, quantifiable differences, and a true zero point (e.g., height, weight, income). All statistical operations are meaningful, including multiplication and division."
      ]
    },
    {
      "cell_type": "markdown",
      "metadata": {
        "id": "18f9666b"
      },
      "source": [
        "### 11 What is the measure of central tendency?\n",
        "\n",
        "The measure of central tendency is a single value that represents the typical or central value of a dataset. It aims to describe the center of the data distribution."
      ]
    },
    {
      "cell_type": "markdown",
      "metadata": {
        "id": "203bb586"
      },
      "source": [
        "### 12 Define mean, median, and mode.\n",
        "\n",
        "*   **Mean:** The arithmetic average of a dataset, calculated by summing all values and dividing by the number of values.\n",
        "*   **Median:** The middle value in a dataset that has been ordered from least to greatest. If there's an even number of values, it's the average of the two middle values.\n",
        "*   **Mode:** The value that appears most frequently in a dataset. A dataset can have one mode (unimodal), more than one mode (multimodal), or no mode."
      ]
    },
    {
      "cell_type": "markdown",
      "metadata": {
        "id": "1f6650d4"
      },
      "source": [
        "### 13 What is the significance of the measure of central tendency?\n",
        "\n",
        "Measures of central tendency provide a concise summary of the typical value in a dataset, helping us understand where the data is centered. They are essential for comparing different datasets, identifying trends, and making informed decisions."
      ]
    },
    {
      "cell_type": "markdown",
      "metadata": {
        "id": "d6b7d03f"
      },
      "source": [
        "### 14 What is variance, and how is it calculated?\n",
        "\n",
        "Variance is a measure of the spread or dispersion of a dataset around its mean. It is calculated as the average of the squared differences from the mean. A higher variance indicates greater variability in the data."
      ]
    },
    {
      "cell_type": "markdown",
      "metadata": {
        "id": "19010209"
      },
      "source": [
        "### 15 What is standard deviation, and why is it important?\n",
        "\n",
        "Standard deviation is the square root of the variance. It measures the average distance of each data point from the mean. It's important because it provides a more intuitive measure of spread than variance, as it's in the same units as the original data. It helps understand the typical deviation from the average and is widely used in statistical analysis and interpretation."
      ]
    },
    {
      "cell_type": "markdown",
      "metadata": {
        "id": "87541a8c"
      },
      "source": [
        "### 16 Define and explain the term range in statistics.\n",
        "\n",
        "The range is the simplest measure of dispersion, representing the difference between the highest and lowest values in a dataset. It gives a basic idea of the spread of the data, but it's sensitive to outliers and doesn't provide information about the distribution of values within the range."
      ]
    },
    {
      "cell_type": "markdown",
      "metadata": {
        "id": "04b27772"
      },
      "source": [
        "### 17 What is the difference between variance and standard deviation?\n",
        "\n",
        "Both variance and standard deviation measure the spread of data, but standard deviation is the square root of variance. Standard deviation is generally preferred as a measure of spread because it is in the same units as the original data, making it easier to interpret than variance, which is in squared units."
      ]
    },
    {
      "cell_type": "markdown",
      "metadata": {
        "id": "92f0df39"
      },
      "source": [
        "### 18 What is skewness in a dataset?\n",
        "\n",
        "Skewness is a measure of the asymmetry of the probability distribution of a dataset. It indicates the extent to which the data is skewed or shifted to one side of the mean."
      ]
    },
    {
      "cell_type": "markdown",
      "metadata": {
        "id": "4aa50370"
      },
      "source": [
        "### 19 What does it mean if a dataset is positively or negatively skewed?\n",
        "\n",
        "*   **Positively skewed (right-skewed):** The tail of the distribution is longer on the right side, meaning there are more extreme values on the higher end. The mean is typically greater than the median.\n",
        "*   **Negatively skewed (left-skewed):** The tail of the distribution is longer on the left side, meaning there are more extreme values on the lower end. The mean is typically less than the median."
      ]
    },
    {
      "cell_type": "markdown",
      "metadata": {
        "id": "d201f226"
      },
      "source": [
        "### 20 Define and explain kurtosis.\n",
        "\n",
        "Kurtosis is a measure of the \"tailedness\" or peakedness of the probability distribution of a dataset. It describes the shape of the distribution's tails relative to the tails of a normal distribution.\n",
        "\n",
        "*   **Leptokurtic:** Has heavier tails and a sharper peak than a normal distribution, indicating more outliers.\n",
        "*   **Mesokurtic:** Has tails and a peak similar to a normal distribution.\n",
        "*   **Platykurtic:** Has lighter tails and a flatter peak than a normal distribution, indicating fewer outliers."
      ]
    },
    {
      "cell_type": "markdown",
      "metadata": {
        "id": "d014ac72"
      },
      "source": [
        "### 21 What is the purpose of covariance?\n",
        "\n",
        "Covariance is a measure of the joint variability of two random variables. It indicates the direction of the linear relationship between two variables. A positive covariance suggests that the variables tend to increase or decrease together, while a negative covariance suggests that one variable tends to increase when the other decreases. However, covariance doesn't provide a standardized measure of the strength of the relationship."
      ]
    },
    {
      "cell_type": "markdown",
      "metadata": {
        "id": "8a9c815e"
      },
      "source": [
        "### 22 What does correlation measure in statistics?\n",
        "\n",
        "Correlation measures the strength and direction of the linear relationship between two variables. It is a standardized measure, typically represented by the correlation coefficient (r), which ranges from -1 to +1. A value of +1 indicates a perfect positive linear relationship, -1 indicates a perfect negative linear relationship, and 0 indicates no linear relationship."
      ]
    },
    {
      "cell_type": "markdown",
      "metadata": {
        "id": "4cb5ddfe"
      },
      "source": [
        "### 23 What is the difference between covariance and correlation?\n",
        "\n",
        "Both covariance and correlation measure the relationship between two variables, but correlation is a standardized version of covariance. Covariance is affected by the scale of the variables, while correlation is not. Correlation provides a more easily interpretable measure of the strength and direction of the linear relationship, ranging from -1 to +1."
      ]
    },
    {
      "cell_type": "markdown",
      "metadata": {
        "id": "9b7a877e"
      },
      "source": [
        "### 24 What are some real-world applications of statistics?\n",
        "\n",
        "Statistics has numerous real-world applications across various fields:\n",
        "\n",
        "*   **Healthcare:** Analyzing clinical trial data, understanding disease prevalence, and evaluating treatment effectiveness.\n",
        "*   **Finance:** Predicting market trends, managing risk, and evaluating investment performance.\n",
        "*   **Marketing:** Understanding consumer behavior, segmenting customers, and measuring the effectiveness of advertising campaigns.\n",
        "*   **Social Sciences:** Conducting surveys, analyzing demographic data, and studying social phenomena.\n",
        "*   **Engineering:** Quality control, process optimization, and reliability testing.\n",
        "\n",
        "These are just a few examples; statistics is a fundamental tool for making data-driven decisions in almost every industry."
      ]
    },
    {
      "cell_type": "markdown",
      "metadata": {
        "id": "91cc5245"
      },
      "source": [
        "### 1 How do you calculate the mean, median, and mode of a dataset?"
      ]
    },
    {
      "cell_type": "code",
      "metadata": {
        "id": "d59b5c92"
      },
      "source": [
        "import statistics\n",
        "data = [1, 2, 2, 3, 4, 5, 5, 5, 6, 7]\n",
        "mean_value = statistics.mean(data)\n",
        "median_value = statistics.median(data)\n",
        "mode_value = statistics.mode(data)\n",
        "print(f\"Mean: {mean_value}\")\n",
        "print(f\"Median: {median_value}\")\n",
        "print(f\"Mode: {mode_value}\")"
      ],
      "execution_count": null,
      "outputs": []
    },
    {
      "cell_type": "markdown",
      "metadata": {
        "id": "4247b532"
      },
      "source": [
        "### 2 Write a Python program to compute the variance and standard deviation of a dataset."
      ]
    },
    {
      "cell_type": "code",
      "metadata": {
        "colab": {
          "base_uri": "https://localhost:8080/"
        },
        "id": "3cd5adf0",
        "outputId": "bccedc52-08af-4b82-93b9-4a6e78c7b00a"
      },
      "source": [
        "import statistics\n",
        "data = [1, 2, 3, 4, 5]\n",
        "variance = statistics.variance(data)\n",
        "stdev = statistics.stdev(data)\n",
        "print(f\"Variance: {variance}\")\n",
        "print(f\"Standard Deviation: {stdev}\")"
      ],
      "execution_count": 42,
      "outputs": [
        {
          "output_type": "stream",
          "name": "stdout",
          "text": [
            "Variance: 2.5\n",
            "Standard Deviation: 1.5811388300841898\n"
          ]
        }
      ]
    },
    {
      "cell_type": "markdown",
      "metadata": {
        "id": "39ab297d"
      },
      "source": [
        "### 3 Create a dataset and classify it into nominal, ordinal, interval, and ratio types."
      ]
    },
    {
      "cell_type": "code",
      "metadata": {
        "colab": {
          "base_uri": "https://localhost:8080/"
        },
        "id": "56c91530",
        "outputId": "b446a03d-b9a9-49fa-fb41-a0a957fa27f1"
      },
      "source": [
        "import pandas as pd\n",
        "data = {'Nominal': ['Red', 'Blue', 'Green', 'Red'],\n",
        "        'Ordinal': ['Small', 'Medium', 'Large', 'Medium'],\n",
        "        'Interval': [20, 30, 40, 25],\n",
        "        'Ratio': [100, 200, 150, 120]}\n",
        "df = pd.DataFrame(data)\n",
        "print(\"Dataset:\")\n",
        "print(df)\n",
        "print(\"\\nClassification:\")\n",
        "print(\"Nominal: Categories without order (e.g., Colors)\")\n",
        "print(\"Ordinal: Categories with order (e.g., Sizes)\")\n",
        "print(\"Interval: Numerical data with no true zero (e.g., Temperature)\")\n",
        "print(\"Ratio: Numerical data with a true zero (e.g., Height, Weight)\")"
      ],
      "execution_count": 43,
      "outputs": [
        {
          "output_type": "stream",
          "name": "stdout",
          "text": [
            "Dataset:\n",
            "  Nominal Ordinal  Interval  Ratio\n",
            "0     Red   Small        20    100\n",
            "1    Blue  Medium        30    200\n",
            "2   Green   Large        40    150\n",
            "3     Red  Medium        25    120\n",
            "\n",
            "Classification:\n",
            "Nominal: Categories without order (e.g., Colors)\n",
            "Ordinal: Categories with order (e.g., Sizes)\n",
            "Interval: Numerical data with no true zero (e.g., Temperature)\n",
            "Ratio: Numerical data with a true zero (e.g., Height, Weight)\n"
          ]
        }
      ]
    },
    {
      "cell_type": "markdown",
      "metadata": {
        "id": "5ec8c0a2"
      },
      "source": [
        "### 4 Implement sampling techniques like random sampling and stratified sampling."
      ]
    },
    {
      "cell_type": "code",
      "metadata": {
        "colab": {
          "base_uri": "https://localhost:8080/"
        },
        "id": "7f0367cc",
        "outputId": "8dbaeb9c-2cc8-4215-8c5d-9dbadf11f028"
      },
      "source": [
        "import random\n",
        "from sklearn.model_selection import train_test_split\n",
        "data = list(range(1, 101))\n",
        "random_sample = random.sample(data, 10)\n",
        "print(f\"Random Sample: {random_sample}\")\n",
        "labels = ['A'] * 50 + ['B'] * 50\n",
        "data_with_labels = list(zip(data, labels))\n",
        "train_data, stratified_sample = train_test_split(data_with_labels, train_size=0.8, stratify=labels)\n",
        "stratified_sample_data = [item[0] for item in stratified_sample]\n",
        "print(f\"Stratified Sample: {stratified_sample_data}\")"
      ],
      "execution_count": 44,
      "outputs": [
        {
          "output_type": "stream",
          "name": "stdout",
          "text": [
            "Random Sample: [76, 94, 11, 91, 80, 32, 19, 43, 87, 25]\n",
            "Stratified Sample: [38, 67, 5, 26, 55, 27, 95, 18, 72, 41, 50, 71, 66, 59, 13, 16, 63, 100, 83, 23]\n"
          ]
        }
      ]
    },
    {
      "cell_type": "markdown",
      "metadata": {
        "id": "06caee1c"
      },
      "source": [
        "### 5 Write a Python function to calculate the range of a dataset."
      ]
    },
    {
      "cell_type": "code",
      "metadata": {
        "colab": {
          "base_uri": "https://localhost:8080/"
        },
        "id": "bb55b83d",
        "outputId": "b8c9f8a0-639b-4afa-a1ac-7947f938067e"
      },
      "source": [
        "def calculate_range(data):\n",
        "  return max(data) - min(data)\n",
        "data = [10, 25, 5, 30, 15]\n",
        "data_range = calculate_range(data)\n",
        "print(f\"Range: {data_range}\")"
      ],
      "execution_count": 45,
      "outputs": [
        {
          "output_type": "stream",
          "name": "stdout",
          "text": [
            "Range: 25\n"
          ]
        }
      ]
    },
    {
      "cell_type": "markdown",
      "metadata": {
        "id": "3160afc9"
      },
      "source": [
        "### 6 Create a dataset and plot its histogram to visualize skewness."
      ]
    },
    {
      "cell_type": "code",
      "metadata": {
        "colab": {
          "base_uri": "https://localhost:8080/",
          "height": 472
        },
        "id": "249f6b81",
        "outputId": "7b91009c-018c-452d-ff46-f364ce18be1b"
      },
      "source": [
        "import matplotlib.pyplot as plt\n",
        "import numpy as np\n",
        "data = np.random.normal(loc=0, scale=1, size=1000)\n",
        "plt.hist(data, bins=30)\n",
        "plt.title(\"Histogram to Visualize Skewness\")\n",
        "plt.xlabel(\"Value\")\n",
        "plt.ylabel(\"Frequency\")\n",
        "plt.show()"
      ],
      "execution_count": 46,
      "outputs": [
        {
          "output_type": "display_data",
          "data": {
            "text/plain": [
              "<Figure size 640x480 with 1 Axes>"
            ],
            "image/png": "[encoded data removed]"
          },
          "metadata": {}
        }
      ]
    },
    {
      "cell_type": "markdown",
      "metadata": {
        "id": "d2d5a861"
      },
      "source": [
        "### 7 Calculate skewness and kurtosis of a dataset using Python libraries."
      ]
    },
    {
      "cell_type": "code",
      "metadata": {
        "colab": {
          "base_uri": "https://localhost:8080/"
        },
        "id": "029177c1",
        "outputId": "b9733e79-92cc-45d3-87bd-2e0180805744"
      },
      "source": [
        "import pandas as pd\n",
        "from scipy.stats import skew, kurtosis\n",
        "data = [1, 2, 3, 4, 5, 6, 7, 8, 9, 10]\n",
        "skewness = skew(data)\n",
        "kurt = kurtosis(data)\n",
        "print(f\"Skewness: {skewness}\")\n",
        "print(f\"Kurtosis: {kurt}\")"
      ],
      "execution_count": 47,
      "outputs": [
        {
          "output_type": "stream",
          "name": "stdout",
          "text": [
            "Skewness: 0.0\n",
            "Kurtosis: -1.2242424242424244\n"
          ]
        }
      ]
    },
    {
      "cell_type": "markdown",
      "metadata": {
        "id": "bf5f14ed"
      },
      "source": [
        "### 8 Generate a dataset and demonstrate positive and negative skewness."
      ]
    },
    {
      "cell_type": "code",
      "metadata": {
        "colab": {
          "base_uri": "https://localhost:8080/",
          "height": 407
        },
        "id": "3fbc0fa4",
        "outputId": "419ad803-6b36-4a62-e8d6-34c97e931adb"
      },
      "source": [
        "import numpy as np\n",
        "import matplotlib.pyplot as plt\n",
        "positive_skew_data = np.random.exponential(scale=1.0, size=1000)\n",
        "negative_skew_data = -np.random.exponential(scale=1.0, size=1000)\n",
        "fig, axes = plt.subplots(1, 2, figsize=(10, 4))\n",
        "axes[0].hist(positive_skew_data, bins=30, color='skyblue')\n",
        "axes[0].set_title('Positively Skewed Data')\n",
        "axes[1].hist(negative_skew_data, bins=30, color='salmon')\n",
        "axes[1].set_title('Negatively Skewed Data')\n",
        "plt.tight_layout()\n",
        "plt.show()"
      ],
      "execution_count": 48,
      "outputs": [
        {
          "output_type": "display_data",
          "data": {
            "text/plain": [
              "<Figure size 1000x400 with 2 Axes>"
            ],
            "image/png": "[encoded data removed]"
          },
          "metadata": {}
        }
      ]
    },
    {
      "cell_type": "markdown",
      "metadata": {
        "id": "e785b98d"
      },
      "source": [
        "### 9 Write a Python script to calculate covariance between two datasets."
      ]
    },
    {
      "cell_type": "code",
      "metadata": {
        "colab": {
          "base_uri": "https://localhost:8080/"
        },
        "id": "5095b2c6",
        "outputId": "40c120ab-dfd1-4a8d-87e8-59069ff963ce"
      },
      "source": [
        "import numpy as np\n",
        "x = np.array([1, 2, 3, 4, 5])\n",
        "y = np.array([5, 4, 3, 2, 1])\n",
        "covariance = np.cov(x, y)[0][1]\n",
        "print(f\"Covariance: {covariance}\")"
      ],
      "execution_count": 49,
      "outputs": [
        {
          "output_type": "stream",
          "name": "stdout",
          "text": [
            "Covariance: -2.5\n"
          ]
        }
      ]
    },
    {
      "cell_type": "markdown",
      "metadata": {
        "id": "68b8174b"
      },
      "source": [
        "### 10 Write a Python script to calculate the correlation coefficient between two datasets."
      ]
    },
    {
      "cell_type": "code",
      "metadata": {
        "colab": {
          "base_uri": "https://localhost:8080/"
        },
        "id": "802879ec",
        "outputId": "18d7caaa-77c4-4cbe-a201-379995a646b2"
      },
      "source": [
        "import numpy as np\n",
        "x = np.array([1, 2, 3, 4, 5])\n",
        "y = np.array([5, 4, 3, 2, 1])\n",
        "correlation_coefficient = np.corrcoef(x, y)[0][1]\n",
        "print(f\"Correlation Coefficient: {correlation_coefficient}\")"
      ],
      "execution_count": 50,
      "outputs": [
        {
          "output_type": "stream",
          "name": "stdout",
          "text": [
            "Correlation Coefficient: -0.9999999999999999\n"
          ]
        }
      ]
    },
    {
      "cell_type": "markdown",
      "metadata": {
        "id": "0fe13d76"
      },
      "source": [
        "### 11 Create a scatter plot to visualize the relationship between two variables."
      ]
    },
    {
      "cell_type": "code",
      "metadata": {
        "id": "66730d1f"
      },
      "source": [
        "import matplotlib.pyplot as plt\n",
        "import numpy as np\n",
        "x = np.array([1, 2, 3, 4, 5])\n",
        "y = np.array([2, 4, 5, 4, 5])\n",
        "plt.scatter(x, y)\n",
        "plt.title(\"Scatter Plot of Two Variables\")\n",
        "plt.xlabel(\"Variable 1\")\n",
        "plt.ylabel(\"Variable 2\")\n",
        "plt.show()"
      ],
      "execution_count": null,
      "outputs": []
    },
    {
      "cell_type": "markdown",
      "metadata": {
        "id": "d37a3848"
      },
      "source": [
        "### 12 Implement and compare simple random sampling and systematic sampling."
      ]
    },
    {
      "cell_type": "code",
      "metadata": {
        "colab": {
          "base_uri": "https://localhost:8080/"
        },
        "id": "d8ee0372",
        "outputId": "410453b4-80ca-4a5c-bc3a-c1247dcf57a2"
      },
      "source": [
        "import random\n",
        "import numpy as np\n",
        "data = list(range(1, 101))\n",
        "simple_random_sample = random.sample(data, 10)\n",
        "print(f\"Simple Random Sample: {simple_random_sample}\")\n",
        "k = 10\n",
        "start_index = random.randint(0, k - 1)\n",
        "systematic_sample = [data[i] for i in range(start_index, len(data), k)]\n",
        "print(f\"Systematic Sample: {systematic_sample}\")"
      ],
      "execution_count": 29,
      "outputs": [
        {
          "output_type": "stream",
          "name": "stdout",
          "text": [
            "Simple Random Sample: [44, 83, 37, 76, 24, 48, 55, 40, 74, 95]\n",
            "Systematic Sample: [8, 18, 28, 38, 48, 58, 68, 78, 88, 98]\n"
          ]
        }
      ]
    },
    {
      "cell_type": "markdown",
      "metadata": {
        "id": "0d1a4f66"
      },
      "source": [
        "### 13 Calculate the mean, median, and mode of grouped data."
      ]
    },
    {
      "cell_type": "code",
      "metadata": {
        "colab": {
          "base_uri": "https://localhost:8080/"
        },
        "id": "854b00e2",
        "outputId": "1d2fba04-f36c-4709-828a-e11bea875623"
      },
      "source": [
        "import pandas as pd\n",
        "data = {'Class Interval': ['0-10', '10-20', '20-30', '30-40'],\n",
        "        'Frequency': [5, 10, 15, 10]}\n",
        "df = pd.DataFrame(data)\n",
        "df['Midpoint'] = df['Class Interval'].apply(lambda x: (int(x.split('-')[0]) + int(x.split('-')[1])) / 2)\n",
        "df['Midpoint * Frequency'] = df['Midpoint'] * df['Frequency']\n",
        "total_frequency = df['Frequency'].sum()\n",
        "mean_grouped = df['Midpoint * Frequency'].sum() / total_frequency\n",
        "print(f\"Mean of Grouped Data: {mean_grouped}\")"
      ],
      "execution_count": 30,
      "outputs": [
        {
          "output_type": "stream",
          "name": "stdout",
          "text": [
            "Mean of Grouped Data: 22.5\n"
          ]
        }
      ]
    },
    {
      "cell_type": "markdown",
      "metadata": {
        "id": "2fc92e71"
      },
      "source": [
        "### 14 Simulate data using Python and calculate its central tendency and dispersion."
      ]
    },
    {
      "cell_type": "code",
      "metadata": {
        "colab": {
          "base_uri": "https://localhost:8080/"
        },
        "id": "c8fb1d16",
        "outputId": "100d5efb-0302-4339-d0e9-78bfdc57d1b3"
      },
      "source": [
        "import numpy as np\n",
        "import statistics\n",
        "simulated_data = np.random.randint(1, 100, 50)\n",
        "mean_sim = statistics.mean(simulated_data)\n",
        "median_sim = statistics.median(simulated_data)\n",
        "stdev_sim = np.std(simulated_data)\n",
        "print(f\"Simulated Data Mean: {mean_sim}\")\n",
        "print(f\"Simulated Data Median: {median_sim}\")\n",
        "print(f\"Simulated Data Standard Deviation: {stdev_sim}\")"
      ],
      "execution_count": 31,
      "outputs": [
        {
          "output_type": "stream",
          "name": "stdout",
          "text": [
            "Simulated Data Mean: 53\n",
            "Simulated Data Median: 54.0\n",
            "Simulated Data Standard Deviation: 27.675035682000487\n"
          ]
        }
      ]
    },
    {
      "cell_type": "markdown",
      "metadata": {
        "id": "949b2ae8"
      },
      "source": [
        "### 15 Use NumPy or pandas to summarize a dataset’s descriptive statistics."
      ]
    },
    {
      "cell_type": "code",
      "metadata": {
        "colab": {
          "base_uri": "https://localhost:8080/"
        },
        "id": "c1148a08",
        "outputId": "914bea0c-7c32-41a9-bd37-a81b5893d545"
      },
      "source": [
        "import pandas as pd\n",
        "data = {'Values': [10, 20, 30, 40, 50]}\n",
        "df = pd.DataFrame(data)\n",
        "descriptive_stats = df['Values'].describe()\n",
        "print(\"Descriptive Statistics:\")\n",
        "print(descriptive_stats)"
      ],
      "execution_count": 32,
      "outputs": [
        {
          "output_type": "stream",
          "name": "stdout",
          "text": [
            "Descriptive Statistics:\n",
            "count     5.000000\n",
            "mean     30.000000\n",
            "std      15.811388\n",
            "min      10.000000\n",
            "25%      20.000000\n",
            "50%      30.000000\n",
            "75%      40.000000\n",
            "max      50.000000\n",
            "Name: Values, dtype: float64\n"
          ]
        }
      ]
    },
    {
      "cell_type": "markdown",
      "metadata": {
        "id": "b4bc42b8"
      },
      "source": [
        "### 16 Plot a boxplot to understand the spread and identify outliers."
      ]
    },
    {
      "cell_type": "code",
      "metadata": {
        "colab": {
          "base_uri": "https://localhost:8080/",
          "height": 433
        },
        "id": "c9f8747c",
        "outputId": "2b5253b3-8c32-4b64-c9b4-3eecfbcd4efe"
      },
      "source": [
        "import matplotlib.pyplot as plt\n",
        "import seaborn as sns\n",
        "data = [1, 2, 3, 4, 5, 6, 7, 8, 9, 10, 100]\n",
        "sns.boxplot(data)\n",
        "plt.title(\"Boxplot to Understand Spread and Identify Outliers\")\n",
        "plt.show()"
      ],
      "execution_count": 33,
      "outputs": [
        {
          "output_type": "display_data",
          "data": {
            "text/plain": [
              "<Figure size 640x480 with 1 Axes>"
            ],
            "image/png": "[encoded data removed]"
          },
          "metadata": {}
        }
      ]
    },
    {
      "cell_type": "markdown",
      "metadata": {
        "id": "d3e34294"
      },
      "source": [
        "### 17 Calculate the interquartile range (IQR) of a dataset."
      ]
    },
    {
      "cell_type": "code",
      "metadata": {
        "colab": {
          "base_uri": "https://localhost:8080/"
        },
        "id": "115f837c",
        "outputId": "606b8555-9349-4db9-e26c-5b50126b66a3"
      },
      "source": [
        "import numpy as np\n",
        "data = [1, 2, 3, 4, 5, 6, 7, 8, 9, 10]\n",
        "Q1 = np.percentile(data, 25)\n",
        "Q3 = np.percentile(data, 75)\n",
        "IQR = Q3 - Q1\n",
        "print(f\"Interquartile Range (IQR): {IQR}\")"
      ],
      "execution_count": 34,
      "outputs": [
        {
          "output_type": "stream",
          "name": "stdout",
          "text": [
            "Interquartile Range (IQR): 4.5\n"
          ]
        }
      ]
    },
    {
      "cell_type": "markdown",
      "metadata": {
        "id": "5743a46b"
      },
      "source": [
        "### 18 Implement Z-score normalization and explain its significance."
      ]
    },
    {
      "cell_type": "code",
      "metadata": {
        "colab": {
          "base_uri": "https://localhost:8080/"
        },
        "id": "4dc3097d",
        "outputId": "be39e6d3-89d8-4126-a2f2-5000ed3bdd93"
      },
      "source": [
        "import numpy as np\n",
        "data = [10, 20, 30, 40, 50]\n",
        "mean = np.mean(data)\n",
        "std_dev = np.std(data)\n",
        "z_scores = [(x - mean) / std_dev for x in data]\n",
        "print(f\"Z-scores: {z_scores}\")"
      ],
      "execution_count": 35,
      "outputs": [
        {
          "output_type": "stream",
          "name": "stdout",
          "text": [
            "Z-scores: [np.float64(-1.414213562373095), np.float64(-0.7071067811865475), np.float64(0.0), np.float64(0.7071067811865475), np.float64(1.414213562373095)]\n"
          ]
        }
      ]
    },
    {
      "cell_type": "markdown",
      "metadata": {
        "id": "37d23194"
      },
      "source": [
        "### 19 Compare two datasets using their standard deviations."
      ]
    },
    {
      "cell_type": "code",
      "metadata": {
        "colab": {
          "base_uri": "https://localhost:8080/"
        },
        "id": "04bb7b49",
        "outputId": "12c9fd70-1caf-46e1-8dc5-1a5325bbb89b"
      },
      "source": [
        "import numpy as np\n",
        "data1 = [1, 2, 3, 4, 5]\n",
        "data2 = [10, 20, 30, 40, 50]\n",
        "std_dev1 = np.std(data1)\n",
        "std_dev2 = np.std(data2)\n",
        "print(f\"Standard Deviation of Data 1: {std_dev1}\")\n",
        "print(f\"Standard Deviation of Data 2: {std_dev2}\")\n",
        "if std_dev1 < std_dev2:\n",
        "  print(\"Data 1 is less spread out than Data 2\")\n",
        "elif std_dev1 > std_dev2:\n",
        "  print(\"Data 1 is more spread out than Data 2\")\n",
        "else:\n",
        "  print(\"Data 1 and Data 2 have the same spread\")"
      ],
      "execution_count": 36,
      "outputs": [
        {
          "output_type": "stream",
          "name": "stdout",
          "text": [
            "Standard Deviation of Data 1: 1.4142135623730951\n",
            "Standard Deviation of Data 2: 14.142135623730951\n",
            "Data 1 is less spread out than Data 2\n"
          ]
        }
      ]
    },
    {
      "cell_type": "markdown",
      "metadata": {
        "id": "50ed900e"
      },
      "source": [
        "### 20 Write a Python program to visualize covariance using a heatmap."
      ]
    },
    {
      "cell_type": "code",
      "metadata": {
        "colab": {
          "base_uri": "https://localhost:8080/",
          "height": 452
        },
        "id": "4a8eee2c",
        "outputId": "77a94ce7-52b9-42a1-af52-390505cf3c3d"
      },
      "source": [
        "import seaborn as sns\n",
        "import pandas as pd\n",
        "data = {'A': [1, 2, 3, 4, 5], 'B': [5, 4, 3, 2, 1]}\n",
        "df = pd.DataFrame(data)\n",
        "covariance_matrix = df.cov()\n",
        "sns.heatmap(covariance_matrix, annot=True)\n",
        "plt.title(\"Covariance Heatmap\")\n",
        "plt.show()"
      ],
      "execution_count": 37,
      "outputs": [
        {
          "output_type": "display_data",
          "data": {
            "text/plain": [
              "<Figure size 640x480 with 2 Axes>"
            ],
            "image/png": "[encoded data removed]"
          },
          "metadata": {}
        }
      ]
    },
    {
      "cell_type": "markdown",
      "metadata": {
        "id": "a4e641b0"
      },
      "source": [
        "### 21 Use seaborn to create a correlation matrix for a dataset."
      ]
    },
    {
      "cell_type": "code",
      "metadata": {
        "colab": {
          "base_uri": "https://localhost:8080/",
          "height": 452
        },
        "id": "977a2ff6",
        "outputId": "3e987aa7-1689-4f8e-b3b1-8294537a3084"
      },
      "source": [
        "import seaborn as sns\n",
        "import pandas as pd\n",
        "data = {'A': [1, 2, 3, 4, 5], 'B': [5, 4, 3, 2, 1], 'C': [10, 20, 30, 40, 50]}\n",
        "df = pd.DataFrame(data)\n",
        "correlation_matrix = df.corr()\n",
        "sns.heatmap(correlation_matrix, annot=True)\n",
        "plt.title(\"Correlation Matrix Heatmap\")\n",
        "plt.show()"
      ],
      "execution_count": 38,
      "outputs": [
        {
          "output_type": "display_data",
          "data": {
            "text/plain": [
              "<Figure size 640x480 with 2 Axes>"
            ],
            "image/png": "[encoded data removed]"
          },
          "metadata": {}
        }
      ]
    },
    {
      "cell_type": "markdown",
      "metadata": {
        "id": "3cd40b88"
      },
      "source": [
        "### 22 Generate a dataset and implement both variance and standard deviation computations."
      ]
    },
    {
      "cell_type": "code",
      "metadata": {
        "colab": {
          "base_uri": "https://localhost:8080/"
        },
        "id": "657b9d64",
        "outputId": "8eae9b3d-9455-40af-cf8f-abfc3af284fa"
      },
      "source": [
        "import numpy as np\n",
        "data = np.random.rand(20) * 100\n",
        "variance = np.var(data)\n",
        "std_dev = np.std(data)\n",
        "print(f\"Dataset: {data}\")\n",
        "print(f\"Variance: {variance}\")\n",
        "print(f\"Standard Deviation: {std_dev}\")"
      ],
      "execution_count": 39,
      "outputs": [
        {
          "output_type": "stream",
          "name": "stdout",
          "text": [
            "Dataset: [48.47568248 76.88761253 16.14294264 66.74002317 21.07577612 40.28300311\n",
            " 25.7316442   6.21352258 22.27467367 94.83667601 73.45037924 14.89297541\n",
            " 69.57556883  5.96173563 75.22599396 30.22713798 66.35816201 34.40639857\n",
            " 26.04558094 55.8651942 ]\n",
            "Variance: 689.1514767659171\n",
            "Standard Deviation: 26.251694740833727\n"
          ]
        }
      ]
    },
    {
      "cell_type": "markdown",
      "metadata": {
        "id": "c55e5086"
      },
      "source": [
        "### 23 Visualize skewness and kurtosis using Python libraries like matplotlib or seaborn."
      ]
    },
    {
      "cell_type": "code",
      "metadata": {
        "colab": {
          "base_uri": "https://localhost:8080/",
          "height": 452
        },
        "id": "4515edb1",
        "outputId": "a69ee94a-bf92-47d3-e67a-eb3b24fa81c8"
      },
      "source": [
        "import matplotlib.pyplot as plt\n",
        "import seaborn as sns\n",
        "import numpy as np\n",
        "from scipy.stats import norm\n",
        "data = np.random.normal(loc=0, scale=1, size=1000)\n",
        "sns.histplot(data, kde=True)\n",
        "plt.title(\"Distribution with Skewness and Kurtosis Visualization\")\n",
        "plt.show()"
      ],
      "execution_count": 40,
      "outputs": [
        {
          "output_type": "display_data",
          "data": {
            "text/plain": [
              "<Figure size 640x480 with 1 Axes>"
            ],
            "image/png": "[encoded data removed]"
          },
          "metadata": {}
        }
      ]
    },
    {
      "cell_type": "markdown",
      "metadata": {
        "id": "df7b646c"
      },
      "source": [
        "### 24 Implement the Pearson and Spearman correlation coefficients for a dataset."
      ]
    },
    {
      "cell_type": "code",
      "metadata": {
        "colab": {
          "base_uri": "https://localhost:8080/"
        },
        "id": "9fb382dc",
        "outputId": "5ad334b1-6ef0-47c0-fc25-1782f4f10030"
      },
      "source": [
        "import pandas as pd\n",
        "from scipy.stats import pearsonr, spearmanr\n",
        "data = {'X': [1, 2, 3, 4, 5], 'Y': [5, 4, 3, 2, 1]}\n",
        "df = pd.DataFrame(data)\n",
        "pearson_corr, _ = pearsonr(df['X'], df['Y'])\n",
        "spearman_corr, _ = spearmanr(df['X'], df['Y'])\n",
        "print(f\"Pearson Correlation Coefficient: {pearson_corr}\")\n",
        "print(f\"Spearman Correlation Coefficient: {spearman_corr}\")"
      ],
      "execution_count": 41,
      "outputs": [
        {
          "output_type": "stream",
          "name": "stdout",
          "text": [
            "Pearson Correlation Coefficient: -1.0\n",
            "Spearman Correlation Coefficient: -0.9999999999999999\n"
          ]
        }
      ]
    }
  ]
}