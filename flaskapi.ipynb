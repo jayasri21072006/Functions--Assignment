{
  "nbformat": 4,
  "nbformat_minor": 0,
  "metadata": {
    "colab": {
      "provenance": []
    },
    "kernelspec": {
      "name": "python3",
      "display_name": "Python 3"
    },
    "language_info": {
      "name": "python"
    }
  },
  "cells": [
    {
      "cell_type": "code",
      "source": [],
      "metadata": {
        "id": "Ql4SI4Q3KZ3_"
      },
      "execution_count": null,
      "outputs": []
    },
    {
      "cell_type": "markdown",
      "source": [],
      "metadata": {
        "id": "i68w0MT5_7-J"
      }
    },
    {
      "cell_type": "markdown",
      "source": [
        "### Q1. How do you create a basic Flask application?"
      ],
      "metadata": {
        "id": "S3__hpQO0MNi"
      }
    },
    {
      "cell_type": "code",
      "source": [
        "!pip install flask-ngrok\n",
        "\n",
        "from flask import Flask\n",
        "app = Flask(__name__)\n",
        "\n",
        "@app.route('/')\n",
        "def home():\n",
        "    return 'Hello, Flask!'\n",
        "\n",
        "if __name__ == '__main__':\n",
        "    app.run(debug=True)"
      ],
      "metadata": {
        "id": "KdEIm32Z0R8p",
        "colab": {
          "base_uri": "https://localhost:8080/"
        },
        "outputId": "17f76252-72dc-42ac-848d-9e51cb8167f2"
      },
      "execution_count": null,
      "outputs": [
        {
          "metadata": {
            "tags": null
          },
          "name": "stdout",
          "output_type": "stream",
          "text": [
            " * Serving Flask app '__main__'\n",
            " * Debug mode: on\n"
          ]
        },
        {
          "metadata": {
            "tags": null
          },
          "name": "stderr",
          "output_type": "stream",
          "text": [
            "INFO:werkzeug:\u001b[31m\u001b[1mWARNING: This is a development server. Do not use it in a production deployment. Use a production WSGI server instead.\u001b[0m\n",
            " * Running on http://127.0.0.1:5000\n",
            "INFO:werkzeug:\u001b[33mPress CTRL+C to quit\u001b[0m\n",
            "INFO:werkzeug: * Restarting with stat\n"
          ]
        }
      ]
    },
    {
      "cell_type": "markdown",
      "source": [
        "### Q2. How do you serve static files like images or CSS in Flask?"
      ],
      "metadata": {
        "id": "kE8ZKZLl0QpS"
      }
    },
    {
      "cell_type": "code",
      "source": [
        "from flask import Flask, send_from_directory\n",
        "app = Flask(__name__)\n",
        "\n",
        "@app.route('/static/<filename>')\n",
        "def send_static(filename):\n",
        "    return send_from_directory('static', filename)\n",
        "\n",
        "if __name__ == '__main__':\n",
        "    app.run(debug=True)"
      ],
      "metadata": {
        "id": "BWYzZk1S0Qfu"
      },
      "execution_count": null,
      "outputs": []
    },
    {
      "cell_type": "markdown",
      "source": [
        "### Q3. How do you define different routes with different HTTP methods in Flask?"
      ],
      "metadata": {
        "id": "T8OTu8RG0Qat"
      }
    },
    {
      "cell_type": "code",
      "source": [
        "from flask import Flask\n",
        "app = Flask(__name__)\n",
        "\n",
        "@app.route('/greet', methods=['GET'])\n",
        "def greet():\n",
        "    return \"Hello World!\"\n",
        "\n",
        "if __name__ == '__main__':\n",
        "    app.run(debug=True)"
      ],
      "metadata": {
        "id": "CIDYDQmP0QVq"
      },
      "execution_count": null,
      "outputs": []
    },
    {
      "cell_type": "markdown",
      "source": [
        "### Q4. How do you render HTML templates in Flask?"
      ],
      "metadata": {
        "id": "Y078JQpf0QPy"
      }
    },
    {
      "cell_type": "code",
      "source": [
        "from flask import Flask, render_template\n",
        "app = Flask(__name__)\n",
        "\n",
        "@app.route('/')\n",
        "def index():\n",
        "    return render_template('index.html')\n",
        "\n",
        "if __name__ == '__main__':\n",
        "    app.run(debug=True)"
      ],
      "metadata": {
        "id": "u8O7N4Qe0QLA"
      },
      "execution_count": null,
      "outputs": []
    },
    {
      "cell_type": "markdown",
      "source": [
        "### Q5. How can you generate URLs for routes in Flask using url_for?"
      ],
      "metadata": {
        "id": "Rnh7BBLp0QFV"
      }
    },
    {
      "cell_type": "code",
      "source": [
        "from flask import Flask, url_for\n",
        "app = Flask(__name__)\n",
        "\n",
        "@app.route('/home')\n",
        "def home():\n",
        "    return 'This is the home page.'\n",
        "\n",
        "@app.route('/')\n",
        "def index():\n",
        "    return f'<a href=\"{url_for(\"home\")}\">Go to Home</a>'\n",
        "\n",
        "if __name__ == '__main__':\n",
        "    app.run(debug=True)"
      ],
      "metadata": {
        "id": "IWuIgS2v0P_l"
      },
      "execution_count": null,
      "outputs": []
    },
    {
      "cell_type": "markdown",
      "source": [
        "### Q6. How do you handle forms in Flask?"
      ],
      "metadata": {
        "id": "d7JHLkhr0P6R"
      }
    },
    {
      "cell_type": "code",
      "source": [
        "from flask import Flask, request, render_template\n",
        "app = Flask(__name__)\n",
        "\n",
        "@app.route('/submit', methods=['GET', 'POST'])\n",
        "def submit():\n",
        "    if request.method == 'POST':\n",
        "        name = request.form['name']\n",
        "        return f\"Hello {name}!\"\n",
        "    return render_template('form.html')\n",
        "\n",
        "if __name__ == '__main__':\n",
        "    app.run(debug=True)"
      ],
      "metadata": {
        "id": "DCEsTVlh0P0s"
      },
      "execution_count": null,
      "outputs": []
    },
    {
      "cell_type": "markdown",
      "source": [
        "### Q7. How can you validate form data in Flask?"
      ],
      "metadata": {
        "id": "E2oDsOyN0Pu7"
      }
    },
    {
      "cell_type": "code",
      "source": [
        "from flask import Flask, request, flash, redirect, url_for\n",
        "app = Flask(__name__)\n",
        "app.secret_key = 'secret'\n",
        "\n",
        "@app.route('/login', methods=['POST'])\n",
        "def login():\n",
        "    username = request.form['username']\n",
        "    if not username:\n",
        "        flash('Username is required!')\n",
        "        return redirect(url_for('login'))\n",
        "    return 'Login successful'\n",
        "\n",
        "if __name__ == '__main__':\n",
        "    app.run(debug=True)"
      ],
      "metadata": {
        "id": "3chaj5S50Ppr"
      },
      "execution_count": null,
      "outputs": []
    },
    {
      "cell_type": "markdown",
      "source": [
        "### Q8. How do you manage sessions in Flask?"
      ],
      "metadata": {
        "id": "YvorsmWK0PiU"
      }
    },
    {
      "cell_type": "code",
      "source": [
        "from flask import Flask, session\n",
        "app = Flask(__name__)\n",
        "app.secret_key = 'secret'\n",
        "\n",
        "@app.route('/set_user')\n",
        "def set_user():\n",
        "    session['user'] = 'John'\n",
        "    return 'User set'\n",
        "\n",
        "@app.route('/get_user')\n",
        "def get_user():\n",
        "    return f'Logged in as {session.get(\"user\", \"Guest\")}'\n",
        "\n",
        "if __name__ == '__main__':\n",
        "    app.run(debug=True)"
      ],
      "metadata": {
        "id": "mKCr5kyp0PbT"
      },
      "execution_count": null,
      "outputs": []
    },
    {
      "cell_type": "markdown",
      "source": [
        "### Q9. How do you redirect to a different route in Flask?"
      ],
      "metadata": {
        "id": "88nwAnS-0PSa"
      }
    },
    {
      "cell_type": "code",
      "source": [
        "from flask import Flask, redirect, url_for\n",
        "app = Flask(__name__)\n",
        "\n",
        "@app.route('/redirect_home')\n",
        "def redirect_home():\n",
        "    return redirect(url_for('home'))\n",
        "\n",
        "@app.route('/home')\n",
        "def home():\n",
        "    return 'This is the home page.'\n",
        "\n",
        "if __name__ == '__main__':\n",
        "    app.run(debug=True)"
      ],
      "metadata": {
        "id": "1srlyhqp0PKP"
      },
      "execution_count": null,
      "outputs": []
    },
    {
      "cell_type": "markdown",
      "source": [
        "### Q10. How do you handle errors in Flask (e.g., 404)?"
      ],
      "metadata": {
        "id": "Jg6we5SS0PFB"
      }
    },
    {
      "cell_type": "code",
      "source": [
        "from flask import Flask\n",
        "app = Flask(__name__)\n",
        "\n",
        "@app.errorhandler(404)\n",
        "def page_not_found(e):\n",
        "    return 'Page not found', 404\n",
        "\n",
        "@app.route('/')\n",
        "def home():\n",
        "    return 'Welcome to the home page.'\n",
        "\n",
        "if __name__ == '__main__':\n",
        "    app.run(debug=True)"
      ],
      "metadata": {
        "id": "AIqkSNFx0PAd"
      },
      "execution_count": null,
      "outputs": []
    },
    {
      "cell_type": "markdown",
      "source": [
        "### Q11. How do you structure a Flask app using Blueprints?"
      ],
      "metadata": {
        "id": "HQ4A_hK30O6p"
      }
    },
    {
      "cell_type": "code",
      "source": [
        "from flask import Flask, Blueprint\n",
        "app = Flask(__name__)\n",
        "\n",
        "bp = Blueprint('home', __name__)\n",
        "\n",
        "@bp.route('/')\n",
        "def index():\n",
        "    return 'Home Page'\n",
        "\n",
        "app.register_blueprint(bp)\n",
        "\n",
        "if __name__ == '__main__':\n",
        "    app.run(debug=True)"
      ],
      "metadata": {
        "id": "XMocDXcE0Opt",
        "colab": {
          "base_uri": "https://localhost:8080/"
        },
        "outputId": "6737e8d8-d035-4e35-ef18-1c3ee3aca3e2",
        "collapsed": true
      },
      "execution_count": 1,
      "outputs": [
        {
          "metadata": {
            "tags": null
          },
          "name": "stdout",
          "output_type": "stream",
          "text": [
            " * Serving Flask app '__main__'\n",
            " * Debug mode: on\n"
          ]
        },
        {
          "metadata": {
            "tags": null
          },
          "name": "stderr",
          "output_type": "stream",
          "text": [
            "INFO:werkzeug:\u001b[31m\u001b[1mWARNING: This is a development server. Do not use it in a production deployment. Use a production WSGI server instead.\u001b[0m\n",
            " * Running on http://127.0.0.1:5000\n",
            "INFO:werkzeug:\u001b[33mPress CTRL+C to quit\u001b[0m\n",
            "INFO:werkzeug: * Restarting with stat\n"
          ]
        }
      ]
    },
    {
      "cell_type": "markdown",
      "source": [
        "### Q12. How do you define a custom Jinja filter in Flask?"
      ],
      "metadata": {
        "id": "3kHnvzaR0Okk"
      }
    },
    {
      "cell_type": "code",
      "source": [
        "from flask import Flask\n",
        "app = Flask(__name__)\n",
        "\n",
        "@app.template_filter('reverse')\n",
        "def reverse_filter(s):\n",
        "    return s[::-1]\n",
        "\n",
        "@app.route('/')\n",
        "def home():\n",
        "    return render_template('home.html', name='Flask')\n",
        "\n",
        "if __name__ == '__main__':\n",
        "    app.run(debug=True)"
      ],
      "metadata": {
        "id": "0ql7-27z0OgV"
      },
      "execution_count": null,
      "outputs": []
    },
    {
      "cell_type": "markdown",
      "source": [
        "### Q13. How can you redirect with query parameters in Flask?"
      ],
      "metadata": {
        "id": "z5AB4N0O0Obt"
      }
    },
    {
      "cell_type": "code",
      "source": [
        "from flask import Flask, redirect, url_for\n",
        "app = Flask(__name__)\n",
        "\n",
        "@app.route('/redirect_with_query')\n",
        "def redirect_with_query():\n",
        "    return redirect(url_for('home', username='John'))\n",
        "\n",
        "@app.route('/home')\n",
        "def home():\n",
        "    return f'Welcome, {request.args.get(\"username\")}'\n",
        "\n",
        "if __name__ == '__main__':\n",
        "    app.run(debug=True)"
      ],
      "metadata": {
        "id": "vhhdcN8_0OWY",
        "colab": {
          "base_uri": "https://localhost:8080/"
        },
        "outputId": "b2d6f232-a8fb-4f2e-8b5f-61cc730adf72"
      },
      "execution_count": 2,
      "outputs": [
        {
          "output_type": "stream",
          "name": "stdout",
          "text": [
            " * Serving Flask app '__main__'\n",
            " * Debug mode: on\n"
          ]
        },
        {
          "output_type": "stream",
          "name": "stderr",
          "text": [
            "INFO:werkzeug:\u001b[31m\u001b[1mWARNING: This is a development server. Do not use it in a production deployment. Use a production WSGI server instead.\u001b[0m\n",
            " * Running on http://127.0.0.1:5000\n",
            "INFO:werkzeug:\u001b[33mPress CTRL+C to quit\u001b[0m\n",
            "INFO:werkzeug: * Restarting with stat\n"
          ]
        }
      ]
    },
    {
      "cell_type": "markdown",
      "source": [
        "### Q14. How do you return JSON responses in Flask?"
      ],
      "metadata": {
        "id": "NHIGbrKl0OSQ"
      }
    },
    {
      "cell_type": "code",
      "source": [
        "from flask import Flask, jsonify\n",
        "app = Flask(__name__)\n",
        "\n",
        "@app.route('/data')\n",
        "def data():\n",
        "    return jsonify({\"name\": \"Flask\", \"version\": \"2.0\"})\n",
        "\n",
        "if __name__ == '__main__':\n",
        "    app.run(debug=True)"
      ],
      "metadata": {
        "id": "xq0ZOKF30ONn",
        "colab": {
          "base_uri": "https://localhost:8080/"
        },
        "outputId": "120d3551-a2ba-495b-bac3-d4effa5dfa0e"
      },
      "execution_count": 3,
      "outputs": [
        {
          "output_type": "stream",
          "name": "stdout",
          "text": [
            " * Serving Flask app '__main__'\n",
            " * Debug mode: on\n"
          ]
        },
        {
          "output_type": "stream",
          "name": "stderr",
          "text": [
            "INFO:werkzeug:\u001b[31m\u001b[1mWARNING: This is a development server. Do not use it in a production deployment. Use a production WSGI server instead.\u001b[0m\n",
            " * Running on http://127.0.0.1:5000\n",
            "INFO:werkzeug:\u001b[33mPress CTRL+C to quit\u001b[0m\n",
            "INFO:werkzeug: * Restarting with stat\n"
          ]
        }
      ]
    },
    {
      "cell_type": "markdown",
      "source": [
        "### Q15. How do you capture URL parameters in Flask?"
      ],
      "metadata": {
        "id": "PPxDqdDV0OI3"
      }
    },
    {
      "cell_type": "code",
      "source": [
        "from flask import Flask\n",
        "app = Flask(__name__)\n",
        "\n",
        "@app.route('/user/<username>')\n",
        "def user(username):\n",
        "    return f\"Hello {username}!\"\n",
        "\n",
        "if __name__ == '__main__':\n",
        "    app.run(debug=True)"
      ],
      "metadata": {
        "id": "hXE0wg5e0OEt"
      },
      "execution_count": null,
      "outputs": []
    },
    {
      "cell_type": "markdown",
      "source": [
        " Q1. What is a RESTful API\n",
        " A RESTful API (Representational State Transfer) is an architectural style for designing networked applications.\n",
        "It is based on stateless communication, uses HTTP methods (GET, POST, PUT, DELETE), and typically works with\n",
        "JSON data. RESTful APIs are scalable, stateless, and lightweight, making them ideal for web services and\n",
        "applications.\n",
        "\n",
        "\n",
        " Q2. Explain the concept of API specification\n",
        " API specification is a document or description that outlines how an API is expected to behave. It defines the\n",
        "endpoints, request methods, parameters, response format, and status codes. This helps developers\n",
        "understand how to interact with the API and what results to expect.\n",
        "\n",
        "\n",
        " Q3. What is Flask, and why is it popular for building APIs\n",
        " Flask is a lightweight Python web framework used to build web applications and APIs. It is popular for its\n",
        "simplicity, flexibility, and minimal setup, which makes it an ideal choice for small to medium-sized projects.\n",
        " Flask is easy to extend with libraries and is highly customizable.\n",
        "\n",
        " Q4. What is routing in Flask\n",
        " Routing in Flask is the process of defining URL patterns that map to specific functions (or views). Each route in\n",
        "Flask corresponds to an HTTP request type (GET, POST, etc.) and is used to handle requests and send\n",
        "appropriate responses.\n",
        "\n",
        " Q5. How do you create a simple Flask application\n",
        " To create a simple Flask application, first install Flask using pip (pip install flask). Then, import Flask, create an\n",
        "instance of the Flask class, and define routes using decorators. Finally, use app.run() to start the server.\n",
        "\n",
        " Q6. What are HTTP methods used in RESTful APIs\n",
        " HTTP methods commonly used in RESTful APIs include GET (retrieve data), POST (create data), PUT (update\n",
        "data), DELETE (delete data), and PATCH (partially update data). These methods define the operations that\n",
        "can be performed on resources.\n",
        "\n",
        " Q7. What is the purpose of the @app.route() decorator in Flask\n",
        " The @app.route() decorator in Flask is used to define the URL for a route. It binds a function to a specific URL\n",
        "pattern and HTTP method, allowing the function to be triggered when that URL is accessed.\n",
        "\n",
        " Q8. What is the difference between GET and POST HTTP methods\n",
        " The GET method retrieves data from the server and should not modify any data. POST, on the other hand, is\n",
        "used to send data to the server, typically to create or update resources. GET requests are generally cached,\n",
        "while POST requests are not.\n",
        "\n",
        "Q9. How do you handle errors in Flask APIs\n",
        " Flask provides error handling via @app.errorhandler() or by manually raising exceptions within routes.\n",
        "Commonly, HTTP status codes like 404 (not found), 400 (bad request), and 500 (internal server error) are\n",
        "used to indicate different errors. Custom error messages can also be returned in the response.\n",
        "\n",
        " Q10. How do you connect Flask to a SQL database\n",
        " Flask can be connected to a SQL database using libraries such as Flask-SQLAlchemy. First, install\n",
        "SQLAlchemy (pip install flask-sqlalchemy), configure the database URI, and create models representing the\n",
        "database tables. You can then query and manipulate the database using SQLAlchemy ORM methods.\n",
        "\n",
        " Q11. What is the role of Flask-SQLAlchemy\n",
        " Flask-SQLAlchemy is an extension for Flask that simplifies database interaction by integrating SQLAlchemy\n",
        "with Flask. It provides an ORM (Object-Relational Mapping) to map Python classes to database tables,\n",
        "making it easier to query and manage databases within Flask applications.\n",
        "\n",
        " Q12. What are Flask blueprints and how are they useful\n",
        " Flask blueprints allow you to organize your application into modular components. Each blueprint can contain\n",
        "routes, views, templates, and static files. This is useful for larger applications, as it helps in separating\n",
        "different parts of the application for better structure and maintainability.\n",
        "\n",
        " Q13. What is the purpose of Flask's request object\n",
        " The request object in Flask is used to access incoming HTTP request data, including form data, JSON\n",
        "payloads, URL parameters, and headers. It is essential for handling data sent by clients when interacting with\n",
        "an API.\n",
        "\n",
        " Q14. How do you create a RESTful API endpoint using Flask\n",
        " To create a RESTful API endpoint in Flask, define a function using the @app.route() decorator, specifying the\n",
        "HTTP method (e.g., GET or POST). The function will handle incoming requests and return a response, often in\n",
        "JSON format.\n",
        "\n",
        " Q15. What is the purpose of Flask's jsonify() function\n",
        " The jsonify() function in Flask is used to convert Python dictionaries or lists into JSON format and set the\n",
        "appropriate response headers. This function makes it easier to send JSON responses from a Flask API.\n",
        "\n",
        " Q16. Explain Flask’s url_for() function\n",
        " url_for() is a Flask function used to generate a URL for a given endpoint or view function. This is useful for\n",
        "linking between different parts of the application, and it dynamically builds URLs based on the route names.\n",
        "\n",
        " Q17. How does Flask handle static files (CSS, JavaScript, etc.)\n",
        " Flask serves static files like CSS, JavaScript, and images from a directory called \"static.\" By default, the static\n",
        "folder is accessible through the /static URL. Files placed in this folder can be referenced in HTML templates or\n",
        "returned directly by Flask.\n",
        "\n",
        "Q18. What is an API Specification, and How Does It Help in Building a Flask API?\n",
        "An API specification is a detailed document or blueprint that defines how a client and server should interact. It outlines available endpoints, request methods (GET, POST, etc.), input parameters, response formats, authentication methods, and error messages.\n",
        "\n",
        "In Flask, an API specification helps in:\n",
        "\n",
        "Standardizing development: Ensures all developers follow the same structure and rules.\n",
        "\n",
        "Ease of integration: Other developers can understand and use your API without confusion.\n",
        "\n",
        "Documentation: Tools like Swagger/OpenAPI use specifications to auto-generate interactive API docs.\n",
        "\n",
        "Error reduction: Prevents miscommunication between frontend and backend.\n",
        "\n",
        "Q19. What are HTTP Status Codes, and Why Are They Important in a Flask API?\n",
        "HTTP status codes are 3-digit numbers returned by a server to indicate the result of a client’s request.\n",
        "\n",
        "Common examples:\n",
        "\n",
        "200 OK – Request succeeded.\n",
        "\n",
        "201 Created – A new resource was successfully created.\n",
        "\n",
        "400 Bad Request – Client sent invalid data.\n",
        "\n",
        "404 Not Found – Requested resource doesn’t exist.\n",
        "\n",
        "500 Internal Server Error – Problem on the server side.\n",
        "\n",
        "In Flask, they are important because:\n",
        "\n",
        "They communicate the result of an API call to the client.\n",
        "\n",
        "They help in debugging and error handling.\n",
        "\n",
        "They enable proper API responses for frontend logic or third-party integrations.\n",
        "\n",
        "Q20. How Do You Handle POST Requests in Flask? (Theoretical Answer)\n",
        "In Flask, POST requests are used to send data from the client to the server, typically to create or update a resource.\n",
        "\n",
        "Handling a POST request in Flask involves:\n",
        "\n",
        "Defining a route with @app.route() using the methods=[\"POST\"] argument.\n",
        "\n",
        "Accessing the incoming data via request.form (for form data) or request.json (for JSON).\n",
        "\n",
        "Processing the data (e.g., saving it to a database).\n",
        "\n",
        "Sending a response, usually with a success message and appropriate HTTP status code (e.g., 201).\n",
        "\n",
        "Example in theory:\n",
        "\n",
        "User submits a form or JSON data.\n",
        "\n",
        "Flask endpoint receives the data using request.\n",
        "\n",
        "Server validates and processes the input.\n",
        "\n",
        "Server returns a response with a message and status code.\n",
        "\n",
        "Q21. How would you secure a Flask API\n",
        " Flask API security can be implemented using various methods, including authentication (via tokens like JWT\n",
        "or OAuth), input validation, CORS handling, rate limiting, and encryption of sensitive data. Flask extensions\n",
        "like Flask-JWT and Flask-OAuth can help implement these security features.\n",
        "\n",
        "Q22. What is the significance of the Flask-RESTful extension\n",
        " Flask-RESTful is an extension that adds support for quickly building REST APIs. It provides tools for creating\n",
        "resources, handling HTTP methods, and organizing routes. This extension simplifies the process of building\n",
        "APIs by offering convenient features like request parsing and response formatting.\n",
        "\n",
        "Q23. What is the role of Flask’s session object\n",
        " The session object in Flask is used to store data between requests, typically for maintaining user sessions.\n",
        "Data stored in the session is usually saved on the client-side (in cookies) and can be used for tracking user\n",
        "activity or authentication.\n"
      ],
      "metadata": {
        "id": "45Rmrsww_8An"
      }
    },
    {
      "cell_type": "code",
      "source": [],
      "metadata": {
        "id": "eAbwyVHIAmdd"
      },
      "execution_count": null,
      "outputs": []
    },
    {
      "cell_type": "markdown",
      "source": [],
      "metadata": {
        "id": "Sk80B3Jh_8C_"
      }
    },
    {
      "cell_type": "markdown",
      "source": [],
      "metadata": {
        "id": "IwGTiqGt_8Gl"
      }
    }
  ]
}