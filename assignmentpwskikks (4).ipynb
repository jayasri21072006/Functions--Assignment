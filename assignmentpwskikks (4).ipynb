{
  "cells": [
    {
      "cell_type": "markdown",
      "source": [
        "Python OOPs Question\n"
      ],
      "metadata": {
        "id": "_RQrR8DKWXS1"
      }
    },
    {
      "cell_type": "markdown",
      "source": [
        "1.What is Object-Oriented Programming (OOP)?\n",
        "   1. OOP centers on objects and classes: classes are blueprints, objects are instances.\n",
        "\n",
        "   2. Classes define attributes (data) and methods (functions) that represent object behavior.\n",
        "   3. Multiple objects can be created from a single class, each with its own state.\n",
        "   4.OOP models real-world entities and their interactions, improving code organization.\n",
        "\n",
        "\n",
        "\n",
        "2.what is a class in OOP?\n",
        " - A class acts as a blueprint or template for creating objects.\n",
        " - It defines the structure and behavior that objects of that class will possess.\n",
        " - Objects, or instances, are created from a class and inherit its attributes and methods.\n",
        " - Classes facilitate code reusability and organization by encapsulating data and functionality.\n",
        "\n",
        "\n",
        "\n",
        "3.what is an object in OOP?\n",
        "\n",
        "- Objects are instances of a class, representing specific entities.\n",
        "- They encapsulate data (attributes) and behavior (methods) defined by their class.\n",
        "- Each object has its own unique state, even if created from the same class.\n",
        "- Objects interact with each other, forming the dynamic parts of an OOP program.\n",
        "\n",
        "4. What is the difference between abstraction and encapsulation?\n",
        " - Abstraction:\n",
        "  - Focuses on what an object does, rather than how it does it.\n",
        "  - It's about hiding complex implementation details and showing only essential features.\n",
        "  - It simplifies complex systems by providing a high-level view.\n",
        "    Often achieved through abstract classes and interfaces.\n",
        " - Essentially, abstraction is about showing the \"what\" and hiding the \"how\".\n",
        "- Encapsulation:\n",
        " - Focuses on bundling data (attributes) and methods (functions) that operate on that data into a single unit (a class).\n",
        "- It's about controlling access to the internal state of an object, protecting it from unintended modifications.\n",
        "It promotes data hiding through the use of access modifiers (e.g., private, public).\n",
        "Encapsulation is about the \"how\" data is protected\n",
        "\n",
        "5.What are dunder methods in Python?\n",
        " In Python, \"dunder\" methods, also known as \"magic\" or \"special\" methods, are methods with double underscores at the beginning and end of their names (e.g., __init__, __str__). These methods allow you to define how your objects interact with Python's built-in functions and operators.\n",
        "\n",
        "\n",
        "6. Explain the concept of inheritance in OOP?\n",
        " Inheritance is a fundamental concept in Object-Oriented Programming (OOP) that allows a new class (the child or derived class) to inherit properties and behaviors from an existing class (the parent or base class). This promotes code reusability and establishes an \"is-a\" relationship between classes.\n",
        "\n",
        " 7.What is polymorphism in OOP?\n",
        "  Polymorphism in OOP allows objects of different classes to be treated as objects of a common type. It enables code to work with various objects without knowing their specific classes, promoting flexibility and reusability. It's achieved through method overriding (runtime) where subclasses provide their own implementations of parent class methods.\n",
        "\n",
        "8. How is encapsulation achieved in Python?\n",
        "- Data Hiding:\n",
        "  Python uses naming conventions, particularly prefixing attributes with double underscores (__), to indicate that they are \"private.\" This signals that they should not be accessed directly from outside the class. they also invloves protected classes.\n",
        "- Controlled Access:\n",
        "  Encapsulation is further achieved by providing getter and setter methods (or using the @property decorator) to control how data is accessed and modified. This allows for validation and prevents unintended changes\n",
        "\n",
        "\n",
        "\n",
        "\n",
        "\n",
        "\n",
        "\n",
        "9. What is a constructor in Python?\n",
        " In Python, a constructor is a special method within a class that is automatically called when an object of that class is created. Its primary purpose is to initialize the object's attributes. Here's a breakdown:\n",
        "\n",
        " -  __init__ Method:\n",
        "The constructor in Python is always named __init__. This is a reserved method name.\n",
        "- It's defined within the class and is executed when a new instance of the class is created.\n",
        "- Initialization:\n",
        "The __init__ method is used to set the initial state of the object. This typically involves assigning values to the object's attributes.\n",
        "The self parameter is the first parameter of the __init__ method, and it refers to the instance of the object being created.\n",
        "\n",
        "10. What are class and static methods in Python?\n",
        "\n",
        "\n",
        " Class Methods:\n",
        "\n",
        " - Definition:\n",
        "A class method is bound to the class and not the instance of the class.\n",
        "It takes the class itself as the first argument, conventionally named cls.\n",
        "It's defined using the @classmethod decorator.\n",
        "\n",
        " Static Methods:\n",
        "\n",
        "  - Definition:\n",
        "A static method is also bound to the class, but it doesn't take the class or instance as an implicit first argument.\n",
        "It's defined using the @staticmethod decorator.\n",
        "It essentially behaves like a regular function, but it's contained within the class.\n",
        "\n",
        "\n",
        "\n",
        "11. What is method overloading in Python?\n",
        " Method overloading in Python refers to defining multiple methods with the same name but different parameters within the same class. Python does not support traditional method overloading like Java or C++. Instead, it uses default arguments and variable-length argument lists to achieve similar functionality.\n",
        "\n",
        "\n",
        "12. What is method overriding in OOP?\n",
        "\n",
        " Method overriding occurs when a subclass provides a specific implementation for a method that is already defined in its superclass. This allows a subclass to customize or extend the behavior of the inherited method. It's a key aspect of polymorphism.\n",
        "\n",
        "\n",
        "13. What is a property decorator in Python?\n",
        " The @property decorator in Python is used to define methods that can be accessed like attributes. It allows you to implement getter, setter, and deleter methods for an attribute. This provides controlled access to instance variables.\n",
        "\n",
        "14.Why is polymorphism important in OOP ?\n",
        "\n",
        "Polymorphism in OOP allows objects of different classes to be treated as objects of a common type. It enables code to work with various objects without knowing their specific classes, promoting flexibility and reusability. It's achieved through method overriding (runtime) where subclasses provide their own implementations of parent class methods.\n",
        "\n",
        "15. What is an abstract class in Python?\n",
        " An abstract class in Python is a class that cannot be instantiated. It serves as a blueprint for other classes. It can contain abstract methods, which must be implemented by its subclasses.\n",
        "\n",
        "16. What are the advantages of OOP?\n",
        " OOP promotes code reusability, modularity, and maintainability. It simplifies complex systems by breaking them down into manageable objects. It enhances data security through encapsulation.\n",
        "\n",
        "17. What is the difference between a class variable and an instance variable?\n",
        " A class variable is shared among all instances of a class, while an instance variable is unique to each instance. Class variables are defined within the class but outside any methods, whereas instance variables are defined within the __init__ method. Class variables are accessed via the class itself or any instance, instance variables via instance\n",
        "\n",
        "18.what is multiple inheritance in Python?\n",
        " In multiple inheritance a single child class can inherit from multiple parent class.That is this kind of inheritance have multiple parents.\n",
        "\n",
        "19.  Explain the purpose of ‘’__str__’ and ‘__repr__’ ‘ methods in Python?\n",
        " The __str__ method returns a human-readable string representation of an object. The __repr__ method returns an unambiguous string representation of an object, often used for debugging and development. __str__ is intended for end-users, while __repr__ is intended for developers.\n",
        "\n",
        "\n",
        "20. What is the significance of the ‘super()’ function in Python?\n",
        " Absolutely! Here are the answers to your OOP questions, keeping each response to no more than four sentences:\n",
        "\n",
        "1. What is Object-Oriented Programming (OOP)?\n",
        "OOP is a programming paradigm that uses \"objects\" to design applications. Objects combine data and behavior. It focuses on encapsulating data and methods into reusable components. OOP emphasizes concepts like inheritance, polymorphism, and encapsulation.\n",
        "\n",
        "11. What is method overloading in Python?\n",
        "Method overloading in Python refers to defining multiple methods with the same name but different parameters within the same class. Python does not support traditional method overloading like Java or C++. Instead, it uses default arguments and variable-length argument lists to achieve similar functionality.\n",
        "\n",
        "12. What is method overriding in OOP?\n",
        "Method overriding occurs when a subclass provides a specific implementation for a method that is already defined in its superclass. This allows a subclass to customize or extend the behavior of the inherited method. It's a key aspect of polymorphism.\n",
        "\n",
        "13. What is a property decorator in Python?\n",
        "The @property decorator in Python is used to define methods that can be accessed like attributes. It allows you to implement getter, setter, and deleter methods for an attribute. This provides controlled access to instance variables.\n",
        "\n",
        "14. Why is polymorphism important in OOP?\n",
        "Polymorphism allows objects of different classes to be treated as objects of a common type. It enables code to work with various objects without knowing their specific classes, promoting flexibility and reusability. It's achieved through method overriding (runtime) where subclasses provide their own implementations of parent class methods.\n",
        "\n",
        "15. What is an abstract class in Python?\n",
        "An abstract class in Python is a class that cannot be instantiated. It serves as a blueprint for other classes. It can contain abstract methods, which must be implemented by its subclasses.\n",
        "\n",
        "16. What are the advantages of OOP?\n",
        "OOP promotes code reusability, modularity, and maintainability. It simplifies complex systems by breaking them down into manageable objects. It enhances data security through encapsulation.\n",
        "\n",
        "17. What is the difference between a class variable and an instance variable?\n",
        "A class variable is shared among all instances of a class, while an instance variable is unique to each instance. Class variables are defined within the class but outside any methods, whereas instance variables are defined within the __init__ method. Class variables are accessed via the class itself or any instance, instance variables via instances.\n",
        "\n",
        "18. What is multiple inheritance in Python?\n",
        "In multiple inheritance, a single child class can inherit from multiple parent classes. This allows the child class to inherit attributes and methods from all its parent classes. Python supports multiple inheritance.\n",
        "\n",
        "19. Explain the purpose of __str__ and __repr__ methods in Python?\n",
        "The __str__ method returns a human-readable string representation of an object. The __repr__ method returns an unambiguous string representation of an object, often used for debugging and development. __str__ is intended for end-users, while __repr__ is intended for developers.\n",
        "\n",
        "20. What is the significance of the super() function in Python?\n",
        "The super() function is used to call methods from a parent class within a subclass. It enables subclasses to extend or modify the behavior of parent class methods. It's essential for proper inheritance and method overriding.\n",
        "\n",
        "21. What is the significance of the __del__ method in Python?\n",
        " The __del__ method is called when an object is about to be destroyed (garbage collected). It allows you to perform cleanup operations, like closing files or releasing resources. However, relying heavily on __del__ is generally discouraged due to its unpredictable execution.\n",
        "\n",
        "22. What is the difference between @staticmethod and @classmethod in Python?\n",
        " @staticmethod defines a method that doesn't receive any implicit first argument (neither self nor cls). @classmethod defines a method that receives the class itself as the first argument (cls). Static methods are like regular functions within a class, while class methods operate on the class itself.\n",
        "23. How does polymorphism work in Python with ?\n",
        " Polymorphism in Python with inheritance is achieved through method overriding. Subclasses can provide their own implementations of methods defined in their superclasses. When a method is called on an object, Python dynamically determines which implementation to use based on the object's type.\n",
        "24. What is method chaining in Python OOP?\n",
        "  Method chaining allows multiple method calls to be made sequentially on the same object. Each method returns the object itself, enabling subsequent method calls. This technique improves code readability and conciseness. It's often used with mutable objects.\n",
        "\n",
        "25. What is the purpose of the __call__ method in Python?\n",
        "  The __call__ method allows an object to be called like a function. When an object has a __call__ method, you can invoke it by using parentheses after the object's name. This makes the object callable.\n",
        "\n",
        "\n",
        "\n"
      ],
      "metadata": {
        "id": "dUpO0621Wbee"
      }
    },
    {
      "cell_type": "code",
      "execution_count": null,
      "metadata": {
        "id": "3lmFEj3fciGA"
      },
      "outputs": [],
      "source": []
    },
    {
      "cell_type": "markdown",
      "metadata": {
        "id": "k90HK_ZLcvN6"
      },
      "source": [
        "Practical Questions"
      ]
    },
    {
      "cell_type": "code",
      "execution_count": null,
      "metadata": {
        "colab": {
          "base_uri": "https://localhost:8080/"
        },
        "id": "g_4_vrE_cwVU",
        "outputId": "4b6ee7df-8696-4baf-b7fb-4d3cb679dda8"
      },
      "outputs": [
        {
          "name": "stdout",
          "output_type": "stream",
          "text": [
            "Bark!\n"
          ]
        }
      ],
      "source": [
        "#1.Create a parent class Animal with a method speak() that prints a generic message. Create a child class Dog that overrides the speak() method to print \"Bark!\".\n",
        "class Animal:\n",
        "    def speak(self):\n",
        "        print(\"Animals speak\")\n",
        "\n",
        "class Dog(Animal):\n",
        "    def speak(self):\n",
        "        print(\"Bark!\")\n",
        "\n",
        "ob = Dog()\n",
        "ob.speak()"
      ]
    },
    {
      "cell_type": "code",
      "execution_count": null,
      "metadata": {
        "colab": {
          "base_uri": "https://localhost:8080/"
        },
        "id": "q2ixXiu7dSIe",
        "outputId": "f78c5922-cdf7-4fb2-ac9e-84b0d31e7945"
      },
      "outputs": [
        {
          "name": "stdout",
          "output_type": "stream",
          "text": [
            "Area of the circle: 50.27\n",
            "Area of the rectangle: 24\n"
          ]
        }
      ],
      "source": [
        "#2.Write a program to create an abstract class Shape with a method area(). Derive classes Circle and Rectangle from it and implement the area() method in both.\n",
        "from abc import ABC, abstractmethod\n",
        "import math\n",
        "\n",
        "class Shape(ABC):\n",
        "    @abstractmethod\n",
        "    def area(self):\n",
        "        pass\n",
        "\n",
        "class Circle(Shape):\n",
        "\n",
        "\n",
        "    def area(self,radius):\n",
        "        return math.pi *radius * radius\n",
        "\n",
        "class Rectangle(Shape):\n",
        "    def __init__(self, length, width):\n",
        "        self.length = length\n",
        "        self.width = width\n",
        "\n",
        "    def area(self):\n",
        "        return self.length * self.width\n",
        "\n",
        "# Example usage\n",
        "circle = Circle()\n",
        "rectangle = Rectangle(4, 6)\n",
        "\n",
        "print(f\"Area of the circle: {circle.area(4):.2f}\")\n",
        "print(f\"Area of the rectangle: {rectangle.area()}\")\n",
        "\n"
      ]
    },
    {
      "cell_type": "code",
      "execution_count": null,
      "metadata": {
        "id": "5CZzcQvGn4E8"
      },
      "outputs": [],
      "source": []
    },
    {
      "cell_type": "code",
      "execution_count": null,
      "metadata": {
        "colab": {
          "base_uri": "https://localhost:8080/"
        },
        "id": "Lq17-xftfAY5",
        "outputId": "19658c4e-b636-49c1-aded-de6dbbc06b87"
      },
      "outputs": [
        {
          "name": "stdout",
          "output_type": "stream",
          "text": [
            "Battery attribute\n",
            "Car's class\n",
            "Types of vehicles\n"
          ]
        }
      ],
      "source": [
        "#3. Implement a multi-level inheritance scenario where a class Vehicle has an attribute type. Derive a class Car and further derive a class ElectricCar that adds a battery attribute.\n",
        "class Vehicle:\n",
        "    def type(self):\n",
        "        print(\"Types of vehicles\")\n",
        "\n",
        "class Car(Vehicle):\n",
        "    def car(self):\n",
        "        print(\"Car's class\")\n",
        "\n",
        "class ElectricCar(Car):\n",
        "    def battery(self):\n",
        "        print(\"Battery attribute\")\n",
        "\n",
        "ob = ElectricCar()\n",
        "ob.battery()\n",
        "ob.car()\n",
        "ob.type()\n"
      ]
    },
    {
      "cell_type": "code",
      "execution_count": null,
      "metadata": {
        "colab": {
          "base_uri": "https://localhost:8080/"
        },
        "id": "r-9gHpzmgKHX",
        "outputId": "ca26f93c-cfa3-4028-b39e-68a9f0edc418"
      },
      "outputs": [
        {
          "name": "stdout",
          "output_type": "stream",
          "text": [
            "Bird can fly (generic)\n",
            "Sparrow flies\n",
            "Penguin cannot fly, but it swims\n"
          ]
        }
      ],
      "source": [
        "#4.Demonstrate polymorphism by creating a base class Bird with a method fly(). Create two derived classes Sparrow and Penguin that override the fly() method.\n",
        "class Bird:\n",
        "    def fly(self):\n",
        "        print(\"Bird can fly (generic)\")  # Added a default message\n",
        "\n",
        "class Sparrow(Bird):\n",
        "    def fly(self):\n",
        "        print(\"Sparrow flies\")\n",
        "\n",
        "class Penguin(Bird):\n",
        "    def fly(self):\n",
        "        print(\"Penguin cannot fly, but it swims\") #Corrected output\n",
        "\n",
        "# Create instances\n",
        "bird = Bird()\n",
        "sparrow = Sparrow()\n",
        "penguin = Penguin()\n",
        "\n",
        "bird.fly()\n",
        "sparrow.fly()\n",
        "penguin.fly()\n",
        "\n"
      ]
    },
    {
      "cell_type": "code",
      "execution_count": null,
      "metadata": {
        "colab": {
          "base_uri": "https://localhost:8080/"
        },
        "id": "ZjVQhscqjDlc",
        "outputId": "99f7c3ac-ab01-4bdb-bb2b-621e2b54d30d"
      },
      "outputs": [
        {
          "name": "stdout",
          "output_type": "stream",
          "text": [
            "Current balance: $1000\n",
            "Deposited $500. New balance: $1500\n",
            "Withdrawn $200. New balance: $1300\n",
            "Insufficient funds.\n",
            "Current balance: $1300\n",
            "Invalid withdrawal amount.\n",
            "Invalid deposit amount.\n"
          ]
        }
      ],
      "source": [
        "#5.Write a program to demonstrate encapsulation by creating a class BankAccount with private attributes balance and methods to deposit, withdraw, and check balance.\n",
        "class BankAccount:\n",
        "    def __init__(self, initial_balance=0):\n",
        "        self._balance = initial_balance  # Private attribute (using single underscore convention)\n",
        "\n",
        "    def deposit(self, amount):\n",
        "        if amount > 0:\n",
        "            self._balance += amount\n",
        "            print(f\"Deposited ${amount}. New balance: ${self._balance}\")\n",
        "        else:\n",
        "            print(\"Invalid deposit amount.\")\n",
        "\n",
        "    def withdraw(self, amount):\n",
        "        if amount > 0 and amount <= self._balance:\n",
        "            self._balance -= amount\n",
        "            print(f\"Withdrawn ${amount}. New balance: ${self._balance}\")\n",
        "        elif amount > self._balance:\n",
        "            print(\"Insufficient funds.\")\n",
        "        else:\n",
        "            print(\"Invalid withdrawal amount.\")\n",
        "\n",
        "    def check_balance(self):\n",
        "        print(f\"Current balance: ${self._balance}\")\n",
        "\n",
        "account = BankAccount(1000)  # Initial balance $1000\n",
        "account.check_balance()\n",
        "account.deposit(500)\n",
        "account.withdraw(200)\n",
        "account.withdraw(1500) #insufficient funds\n",
        "account.check_balance()\n",
        "account.withdraw(-100) #invalid withdraw amount\n",
        "account.deposit(-100) #invalid deposit amount\n",
        "\n",
        "\n"
      ]
    },
    {
      "cell_type": "code",
      "execution_count": null,
      "metadata": {
        "colab": {
          "base_uri": "https://localhost:8080/"
        },
        "id": "sMmrOy3zn5Pm",
        "outputId": "1585bf8c-68b8-448b-ab0a-0bb69fe1ce1d"
      },
      "outputs": [
        {
          "name": "stdout",
          "output_type": "stream",
          "text": [
            "Playing a generic instrument\n",
            "Strumming a guitar\n",
            "Playing the piano keys\n"
          ]
        }
      ],
      "source": [
        "#6.Demonstrate runtime polymorphism using a method play() in a base class Instrument. Derive classes Guitar and Piano that implement their own version of play().\n",
        "\n",
        "class Instrument:\n",
        "    def play(self):\n",
        "        print(\"Playing a generic instrument\")\n",
        "\n",
        "class Guitar(Instrument):\n",
        "    def play(self):\n",
        "        print(\"Strumming a guitar\")\n",
        "\n",
        "class Piano(Instrument):\n",
        "    def play(self):\n",
        "        print(\"Playing the piano keys\")\n",
        "\n",
        "\n",
        "def perform_instrument(instrument):\n",
        "    instrument.play()\n",
        "\n",
        "ins1=Instrument()\n",
        "ins2=Guitar()\n",
        "ins3=Piano()\n",
        "\n",
        "perform_instrument(ins1)\n",
        "perform_instrument(ins2)\n",
        "perform_instrument(ins3)\n"
      ]
    },
    {
      "cell_type": "code",
      "execution_count": null,
      "metadata": {
        "colab": {
          "base_uri": "https://localhost:8080/"
        },
        "id": "bQ7apDahqQt5",
        "outputId": "47878219-0cde-4058-ae28-4eade3077c2a"
      },
      "outputs": [
        {
          "name": "stdout",
          "output_type": "stream",
          "text": [
            "7\n",
            "3\n"
          ]
        }
      ],
      "source": [
        "#7.Create a class MathOperations with a class method add_numbers() to add two numbers and a static method subtract_numbers() to subtract two numbers.\n",
        "class MathOperation:\n",
        "  @staticmethod\n",
        "  def add_numbers(x,y):\n",
        "    print(x+y)\n",
        "  @staticmethod\n",
        "  def subtract_numbers(x,y):\n",
        "    print(x-y)\n",
        "od=MathOperation()\n",
        "od.add_numbers(5,2)\n",
        "od.subtract_numbers(5,2)\n",
        "\n"
      ]
    },
    {
      "cell_type": "code",
      "execution_count": null,
      "metadata": {
        "id": "RXvKSLKbb0Iz",
        "colab": {
          "base_uri": "https://localhost:8080/"
        },
        "outputId": "9582c84d-378c-4108-ac12-242b15a47fbe"
      },
      "outputs": [
        {
          "output_type": "stream",
          "name": "stdout",
          "text": [
            "3\n"
          ]
        }
      ],
      "source": [
        "#8.Implement a class Person with a class method to count the total number of persons created.\n",
        "class Person:\n",
        "    person_count = 0  # Class variable to count persons\n",
        "\n",
        "    def __init__(self, name):\n",
        "        Person.person_count += 1  # Increment count on object creation\n",
        "        self.name = name\n",
        "\n",
        "    @classmethod\n",
        "    def get_person_count(cls):\n",
        "        return cls.person_count\n",
        "\n",
        "# Example usage:\n",
        "person1 = Person(\"Alice\")\n",
        "person2 = Person(\"Bob\")\n",
        "person3 = Person(\"Charlie\")\n",
        "\n",
        "print(Person.get_person_count())  # Output: 3"
      ]
    },
    {
      "cell_type": "code",
      "execution_count": null,
      "metadata": {
        "colab": {
          "base_uri": "https://localhost:8080/"
        },
        "id": "MHV8D8Kabz6g",
        "outputId": "bc2adbe3-23e5-4379-c015-46d8353badd2"
      },
      "outputs": [
        {
          "name": "stdout",
          "output_type": "stream",
          "text": [
            "3/4\n"
          ]
        }
      ],
      "source": [
        "#9.Write a class Fraction with attributes numerator and denominator. Override the str method to display the fraction as \"numerator/denominator\".\n",
        "class Fraction:\n",
        "    def __init__(self, numerator, denominator):\n",
        "        self.numerator = numerator\n",
        "        self.denominator = denominator\n",
        "\n",
        "    def __str__(self):\n",
        "        return f\"{self.numerator}/{self.denominator}\"\n",
        "\n",
        "my_fraction = Fraction(3, 4)\n",
        "print(my_fraction)\n",
        "\n",
        "\n"
      ]
    },
    {
      "cell_type": "code",
      "execution_count": null,
      "metadata": {
        "colab": {
          "base_uri": "https://localhost:8080/"
        },
        "id": "ZaeqWNBuhCvu",
        "outputId": "0c549e1a-978b-4877-9a49-e5fc11378816"
      },
      "outputs": [
        {
          "name": "stdout",
          "output_type": "stream",
          "text": [
            "(3, 8)\n"
          ]
        }
      ],
      "source": [
        "#10.Demonstrate operator overloading by creating a class Vector and overriding the add method to add twovectors.\n",
        "class Vector:\n",
        "  def __init__(self,x,y):\n",
        "    self.x=x\n",
        "    self.y=y\n",
        "  def __add__(self,other):\n",
        "    return (self.x+other.x,self.y+other.y)\n",
        "\n",
        "ob1=Vector(1,4)\n",
        "ob2=Vector(2,4)\n",
        "\n",
        "print(ob1+ob2)"
      ]
    },
    {
      "cell_type": "code",
      "execution_count": null,
      "metadata": {
        "colab": {
          "base_uri": "https://localhost:8080/"
        },
        "id": "mg9cuGPpgKM2",
        "outputId": "d152204d-4b44-4f5f-e477-3cc8276b39c5"
      },
      "outputs": [
        {
          "name": "stdout",
          "output_type": "stream",
          "text": [
            "Hello, my name is  lingesh and I am 19 years old.\n"
          ]
        }
      ],
      "source": [
        "# 11. Create a class Person with attributes name and age. Add a method greet() that prints \"Hello, my name is  {name} and I am {age} years old.\"\n",
        "class Person:\n",
        "  def __init__(self,name,age):\n",
        "    self.name=name\n",
        "    self.age=age\n",
        "  def greet(self):\n",
        "    print(f\"Hello, my name is  {self.name} and I am {self.age} years old.\")\n",
        "ob=Person(\"lingesh\",19)\n",
        "ob.greet()"
      ]
    },
    {
      "cell_type": "code",
      "execution_count": null,
      "metadata": {
        "colab": {
          "base_uri": "https://localhost:8080/"
        },
        "id": "GVtbQqkx_PXY",
        "outputId": "931bcd65-7686-4348-e301-9af8314df28a"
      },
      "outputs": [
        {
          "name": "stdout",
          "output_type": "stream",
          "text": [
            "Alice's average grade: 86.25\n"
          ]
        }
      ],
      "source": [
        "# 12. Implement a class Student with attributes name and grades. Create a method average_grade() to compute  the average of the grades.\n",
        "\n",
        "class Student:\n",
        "    def __init__(self, name, grades):\n",
        "        self.name = name\n",
        "        self.grades = grades\n",
        "\n",
        "    def average_grade(self):\n",
        "        if not self.grades:\n",
        "            return 0\n",
        "        return sum(self.grades) / len(self.grades)\n",
        "\n",
        "student1 = Student(\"Alice\", [85, 90, 78, 92])\n",
        "average1 = student1.average_grade()\n",
        "print(f\"{student1.name}'s average grade: {average1}\")"
      ]
    },
    {
      "cell_type": "code",
      "execution_count": null,
      "metadata": {
        "colab": {
          "base_uri": "https://localhost:8080/"
        },
        "id": "8-RpHHmtBNNL",
        "outputId": "0d97bce9-9ce7-45b8-b57f-bda8a5282c9a"
      },
      "outputs": [
        {
          "output_type": "stream",
          "name": "stdout",
          "text": [
            "Dimensions: (9, 2)\n",
            "Area: 18\n"
          ]
        }
      ],
      "source": [
        "#13. Create a class Rectangle with methods set_dimensions() to set the dimensions and area() to calculate the area.\n",
        "class Rectangle:\n",
        "    def __init__(self):\n",
        "        self.l = 5\n",
        "        self.b = 5\n",
        "\n",
        "    @property\n",
        "    def show_dimen(self):\n",
        "        return self.l, self.b\n",
        "\n",
        "    @show_dimen.setter\n",
        "    def show_dimen(self, dimensions):\n",
        "        self.l = dimensions[0]\n",
        "        self.b = dimensions[1]\n",
        "\n",
        "    def area(self):\n",
        "        return self.l * self.b\n",
        "\n",
        "# Example usage:\n",
        "ob = Rectangle()\n",
        "ob.show_dimen = (9, 2)\n",
        "print(f\"Dimensions: {ob.show_dimen}\")\n",
        "print(f\"Area: {ob.area()}\")"
      ]
    },
    {
      "cell_type": "code",
      "execution_count": null,
      "metadata": {
        "colab": {
          "base_uri": "https://localhost:8080/"
        },
        "id": "la-b_PabC20K",
        "outputId": "c41c7099-a63d-4ea7-9cac-2c3382894b1d"
      },
      "outputs": [
        {
          "output_type": "stream",
          "name": "stdout",
          "text": [
            "Employee salary: 600\n"
          ]
        }
      ],
      "source": [
        "#14.Create a class Employee with a method calculate_salary() that computes the salary based on hours worked and hourly rate. Create a derived class Manager that adds a bonus to the salary.\n",
        "class Employee:\n",
        "    def __init__(self, hours, hourly_rate):\n",
        "        self.hours = hours\n",
        "        self.hourly_rate = hourly_rate\n",
        "\n",
        "    def calculate_salary(self):\n",
        "        return self.hours * self.hourly_rate\n",
        "\n",
        "class Manager(Employee):\n",
        "    def __init__(self, hours, hourly_rate, bonus):\n",
        "        super().__init__(hours, hourly_rate)\n",
        "        self.bonus = bonus\n",
        "\n",
        "    def calculate_salary(self):\n",
        "        base_salary = super().calculate_salary()\n",
        "        return base_salary + self.bonus\n",
        "\n",
        "employee = Employee(40, 15)\n",
        "employee_salary = employee.calculate_salary()\n",
        "print(f\"Employee salary: {employee_salary}\")\n",
        "\n",
        "\n",
        "\n"
      ]
    },
    {
      "cell_type": "code",
      "source": [
        "#15. Create a class Product with attributes name, price, and quantity. Implement a method total_price() that  calculates the total price of the product.\n",
        "class Product:\n",
        "    def __init__(self, name, price, quantity):\n",
        "        self.name = name\n",
        "        self.price = price\n",
        "        self.quantity = quantity\n",
        "\n",
        "    def total_price(self):\n",
        "        return self.price * self.quantity\n",
        "\n",
        "\n",
        "product1 = Product(\"Laptop\", 1200, 2)\n",
        "total1 = product1.total_price()\n",
        "print(f\"Total price of {product1.name}: {total1}\")"
      ],
      "metadata": {
        "colab": {
          "base_uri": "https://localhost:8080/"
        },
        "id": "Wf5GWLruLPtg",
        "outputId": "077ca519-5467-4bd7-b501-d921b9d1f765"
      },
      "execution_count": null,
      "outputs": [
        {
          "output_type": "stream",
          "name": "stdout",
          "text": [
            "Total price of Laptop: 2400\n"
          ]
        }
      ]
    },
    {
      "cell_type": "code",
      "source": [
        "#16. Create a class Animal with an abstract method sound(). Create two derived classes Cow and Sheep that  implement the sound() method.\n",
        "import abc\n",
        "from abc import abstractmethod\n",
        "\n",
        "class Animal(abc.ABC):  # Animal should inherit from abc.ABC\n",
        "    @abstractmethod\n",
        "    def sound(self):  # self is required\n",
        "        pass\n",
        "class Cow(Animal):  # Class name should be Cow, not cow\n",
        "    def sound(self):  # self is required\n",
        "        print(\"maaa\")\n",
        "\n",
        "class Sheep(Animal):\n",
        "    def sound(self):  # self is required\n",
        "        print(\"meaah\")\n",
        "\n",
        "ob1 = Cow()\n",
        "ob1.sound()\n",
        "Sheep().sound() #create an instance of Sheep to call the function."
      ],
      "metadata": {
        "colab": {
          "base_uri": "https://localhost:8080/"
        },
        "id": "1_GTOAtBO1V5",
        "outputId": "eaa212d4-a0f7-43f1-9453-a34729bfff25"
      },
      "execution_count": null,
      "outputs": [
        {
          "output_type": "stream",
          "name": "stdout",
          "text": [
            "maaa\n",
            "meaah\n"
          ]
        }
      ]
    },
    {
      "cell_type": "markdown",
      "source": [],
      "metadata": {
        "id": "tsp6trgWWTOk"
      }
    },
    {
      "cell_type": "code",
      "source": [
        "#17.Create a class Book with attributes title, author, and year_published. Add a method get_book_info() that  returns a formatted string with the book's details.\n",
        "class Book:\n",
        "  def __init__(self,title,author,year_published):\n",
        "    self.title=title\n",
        "    self.author=author\n",
        "    self.year_published=year_published\n",
        "  def get_book_info(self):\n",
        "    return f'Book title:{self.title},author:{self.author},published year:{self.year_published}'\n",
        "ob1=Book(\"story\",\"lj\",\"2023\")\n",
        "ob1.get_book_info()\n"
      ],
      "metadata": {
        "colab": {
          "base_uri": "https://localhost:8080/",
          "height": 35
        },
        "id": "-8qrfTlRQoDR",
        "outputId": "97e391cc-4937-45ca-a6f9-61e1f0454c4e"
      },
      "execution_count": null,
      "outputs": [
        {
          "output_type": "execute_result",
          "data": {
            "text/plain": [
              "'Book title:story,author:lj,published year:2023'"
            ],
            "application/vnd.google.colaboratory.intrinsic+json": {
              "type": "string"
            }
          },
          "metadata": {},
          "execution_count": 21
        }
      ]
    },
    {
      "cell_type": "code",
      "source": [
        "#18.Create a class House with attributes address and price. Create a derived class Mansion that adds an attribute number_of_rooms.\n",
        "class House:\n",
        "    def __init__(self, address, price):\n",
        "        self.address = address\n",
        "        self.price = price\n",
        "\n",
        "class Mansion(House):\n",
        "    def __init__(self, address, price, number_of_rooms):\n",
        "        super().__init__(address, price)  # Call the constructor of the base class\n",
        "        self.number_of_rooms = number_of_rooms\n",
        "\n",
        "\n",
        "my_house = House(\"123 Main St\", 250000)\n",
        "my_mansion = Mansion(\"456 Oak Ave\", 1000000, 15)\n",
        "\n",
        "print(f\"House Address: {my_house.address}, Price: ${my_house.price}\")\n",
        "print(f\"Mansion Address: {my_mansion.address}, Price: ${my_mansion.price}, Rooms: {my_mansion.number_of_rooms}\")"
      ],
      "metadata": {
        "colab": {
          "base_uri": "https://localhost:8080/"
        },
        "id": "y6A5Eq_ESTn6",
        "outputId": "cf0ae4c3-020b-4de4-c472-eb6b6ff6a590"
      },
      "execution_count": null,
      "outputs": [
        {
          "output_type": "stream",
          "name": "stdout",
          "text": [
            "House Address: 123 Main St, Price: $250000\n",
            "Mansion Address: 456 Oak Ave, Price: $1000000, Rooms: 15\n"
          ]
        }
      ]
    }
  ],
  "metadata": {
    "colab": {
      "provenance": []
    },
    "kernelspec": {
      "display_name": "Python 3",
      "name": "python3"
    },
    "language_info": {
      "name": "python"
    }
  },
  "nbformat": 4,
  "nbformat_minor": 0
}